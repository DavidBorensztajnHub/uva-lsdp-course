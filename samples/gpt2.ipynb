{
 "cells": [
  {
   "cell_type": "code",
   "execution_count": 14,
   "metadata": {},
   "outputs": [
    {
     "name": "stderr",
     "output_type": "stream",
     "text": [
      "Some weights of the model checkpoint at facebook/blenderbot-400M-distill were not used when initializing BlenderbotForConditionalGeneration: ['lm_head.weight']\n",
      "- This IS expected if you are initializing BlenderbotForConditionalGeneration from the checkpoint of a model trained on another task or with another architecture (e.g. initializing a BertForSequenceClassification model from a BertForPreTraining model).\n",
      "- This IS NOT expected if you are initializing BlenderbotForConditionalGeneration from the checkpoint of a model that you expect to be exactly identical (initializing a BertForSequenceClassification model from a BertForSequenceClassification model).\n"
     ]
    }
   ],
   "source": [
    "# based on https://huggingface.co/transformers/model_doc/blenderbot.html#blenderbotforconditionalgeneration\n",
    "\n",
    "# load pre-trained model\n",
    "from transformers import BlenderbotTokenizer, BlenderbotForConditionalGeneration\n",
    "\n",
    "mname = 'facebook/blenderbot-400M-distill'\n",
    "\n",
    "model = BlenderbotForConditionalGeneration.from_pretrained(mname)\n",
    "tokenizer = BlenderbotTokenizer.from_pretrained(mname)"
   ]
  },
  {
   "cell_type": "code",
   "execution_count": null,
   "metadata": {},
   "outputs": [
    {
     "name": "stdout",
     "output_type": "stream",
     "text": [
      "oki dok\n",
      " Do you have any pets? I have a dog, he's a poodle.\n",
      "whats his name?\n",
      " His name is Oreo. He's a miniature poodle. Do you have any pets?\n",
      "nevermind\n",
      " Oreo is a cute name for a poodle. Do you have any other pets?\n",
      "where do you live?\n",
      " I don't have any pets, but I used to have a miniature poodle.\n",
      "can you say what is the capital of france?\n",
      " I'm not sure, but I do know that it is the most populous country in Europe.\n",
      "oh what about germany?\n",
      " I'm not sure, but I do know that it is the most populous country in Europe.\n",
      "and poland?\n",
      " I have never been to Poland, but I would love to go one day. It is the second-largest country in the European Union.\n",
      "really? how do you know?\n",
      " I know that it is the third-largest country in the European Union by area.\n",
      "who told you?\n",
      " I didn't know it was the third-largest country in the European Union by area.\n",
      "stop saying these things to me\n",
      " It is the third-largest country in the European Union by area. I didn't know that.\n",
      "oh you are extremely entertaining\n",
      " Yes, it is. It is the third-largest country in the European Union by area.\n",
      "bye\n",
      " Have you ever been to Italy? It is the most populous country in Europe.\n",
      "are you dreaming this up?\n",
      " I would love to visit Italy someday. It is the most sparsely populated country in Europe.\n"
     ]
    }
   ],
   "source": [
    "max_len = 128\n",
    "dialogue = []\n",
    "while True:\n",
    "    utterance = input()\n",
    "    dialogue.append(utterance)\n",
    "    history = '\\n'.join(dialogue)\n",
    "    # truncate history if exceeds max length\n",
    "    if len(history) > max_len:\n",
    "        history = history[-max_len:]\n",
    "    inputs = tokenizer(history, return_tensors='pt')\n",
    "    reply_ids = model.generate(**inputs)\n",
    "    response = tokenizer.batch_decode(reply_ids)[0].strip('</s>')\n",
    "    print(response)\n",
    "    dialogue.append(response)"
   ]
  },
  {
   "cell_type": "code",
   "execution_count": null,
   "metadata": {},
   "outputs": [],
   "source": []
  }
 ],
 "metadata": {
  "kernelspec": {
   "display_name": "transformers",
   "language": "python",
   "name": "transformers"
  },
  "language_info": {
   "codemirror_mode": {
    "name": "ipython",
    "version": 3
   },
   "file_extension": ".py",
   "mimetype": "text/x-python",
   "name": "python",
   "nbconvert_exporter": "python",
   "pygments_lexer": "ipython3",
   "version": "3.6.10"
  }
 },
 "nbformat": 4,
 "nbformat_minor": 2
}
