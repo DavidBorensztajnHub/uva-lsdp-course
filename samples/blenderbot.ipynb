{
 "cells": [
  {
   "cell_type": "code",
   "execution_count": 1,
   "metadata": {},
   "outputs": [
    {
     "name": "stderr",
     "output_type": "stream",
     "text": [
      "Some weights of the model checkpoint at facebook/blenderbot-400M-distill were not used when initializing BlenderbotForConditionalGeneration: ['lm_head.weight']\n",
      "- This IS expected if you are initializing BlenderbotForConditionalGeneration from the checkpoint of a model trained on another task or with another architecture (e.g. initializing a BertForSequenceClassification model from a BertForPreTraining model).\n",
      "- This IS NOT expected if you are initializing BlenderbotForConditionalGeneration from the checkpoint of a model that you expect to be exactly identical (initializing a BertForSequenceClassification model from a BertForSequenceClassification model).\n"
     ]
    }
   ],
   "source": [
    "# based on https://huggingface.co/transformers/model_doc/blenderbot.html#blenderbotforconditionalgeneration\n",
    "\n",
    "# load pre-trained model\n",
    "from transformers import BlenderbotTokenizer, BlenderbotForConditionalGeneration\n",
    "\n",
    "mname = 'facebook/blenderbot-400M-distill'\n",
    "\n",
    "model = BlenderbotForConditionalGeneration.from_pretrained(mname)\n",
    "tokenizer = BlenderbotTokenizer.from_pretrained(mname)"
   ]
  },
  {
   "cell_type": "code",
   "execution_count": null,
   "metadata": {},
   "outputs": [
    {
     "name": "stdout",
     "output_type": "stream",
     "text": [
      "hi\n",
      " Hi! How are you? I just got back from walking my dog. Do you have any pets?\n",
      "i don't care\n",
      " I don't have any pets either. Do you have any hobbies that you like to do?\n",
      "i like skiing\n",
      " I don't have any pets either. Do you have any hobbies that you like to do?\n",
      "well\n",
      " I don't have any pets either. Do you have any hobbies that you like to do?\n",
      "ok\n",
      " I like to play video games.  What about you?  Do you have any hobbies?\n"
     ]
    }
   ],
   "source": [
    "max_len = 128\n",
    "dialogue = []\n",
    "while True:\n",
    "    utterance = input()\n",
    "    dialogue.append(utterance)\n",
    "    history = '\\n'.join(dialogue)\n",
    "    # truncate history if exceeds max length\n",
    "    if len(history) > max_len:\n",
    "        history = history[-max_len:]\n",
    "    inputs = tokenizer(history, return_tensors='pt')\n",
    "    reply_ids = model.generate(**inputs)\n",
    "    response = tokenizer.batch_decode(reply_ids)[0].strip('</s>')\n",
    "    print(response)\n",
    "    dialogue.append(response)"
   ]
  },
  {
   "cell_type": "code",
   "execution_count": null,
   "metadata": {},
   "outputs": [],
   "source": []
  }
 ],
 "metadata": {
  "kernelspec": {
   "display_name": "transformers",
   "language": "python",
   "name": "transformers"
  },
  "language_info": {
   "codemirror_mode": {
    "name": "ipython",
    "version": 3
   },
   "file_extension": ".py",
   "mimetype": "text/x-python",
   "name": "python",
   "nbconvert_exporter": "python",
   "pygments_lexer": "ipython3",
   "version": "3.6.10"
  }
 },
 "nbformat": 4,
 "nbformat_minor": 2
}
