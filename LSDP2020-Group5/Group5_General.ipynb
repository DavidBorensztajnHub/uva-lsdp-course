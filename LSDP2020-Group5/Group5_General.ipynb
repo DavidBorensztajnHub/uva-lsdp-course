{
 "cells": [
  {
   "cell_type": "markdown",
   "id": "composed-castle",
   "metadata": {},
   "source": [
    "# Dutch Political Parties in the House of Representatives "
   ]
  },
  {
   "cell_type": "markdown",
   "id": "settled-complement",
   "metadata": {},
   "source": [
    "# LSDP - Group 5"
   ]
  },
  {
   "cell_type": "markdown",
   "id": "varied-wesley",
   "metadata": {},
   "source": [
    "* [RQ1 - Differences in political ideology based on sentiment analysis](#RQ1) is done by Quinten Bolding (11290889)\n",
    "* [RQ2 - Sentiment and topics in the dutch parliament](#RQ2) is done by Marten Rozema (11735651)\n",
    "* [RQ3 - Framing of political issues during corona crisis](#RQ3) is done by Savina van Rielova (12154520)\n",
    "* [RQ4 - Dutch Parties about Refugees](#RQ4) is done by Julotte van der Beek (11338326)"
   ]
  },
  {
   "cell_type": "markdown",
   "id": "extreme-temperature",
   "metadata": {},
   "source": [
    "### Table of Contents\n",
    "\n",
    "* 1. [Introduction](#Introduction)\n",
    "    * 1.1. [RQ's](#RQ's)\n",
    "* 2. [Datasets](#2.-Datasets)\n",
    "* 3. [RQ1 - Differences in political ideology based on sentiment analysis](#RQ1)\n",
    "* 4. [RQ2 - Sentiment and topics in the Dutch parliament](#RQ2) \n",
    "* 5. [RQ3 - Framing of political issues during corona crisis](#RQ3) \n",
    "* 6. [RQ4 - Dutch Parties about Refugees](#RQ4) \n",
    "* 7. [Conclusions](#Conclusions)"
   ]
  },
  {
   "cell_type": "markdown",
   "id": "acknowledged-arlington",
   "metadata": {},
   "source": [
    "# 1. Introduction"
   ]
  },
  {
   "cell_type": "markdown",
   "id": "israeli-poverty",
   "metadata": {},
   "source": [
    "Nowadays we see the implementation of data analysis on almost every level. It is important to different companies, researchers, governments and so on. However there are still fields that are not so compatible with data analysis, such as politics. Politics is not based on numbers or labels. Politics base lies in the people affiliated with it and their communication between eachother. This means to describe it we can not always turn to our standard numerical data and have to avert to Natural Language Processing or NLP. With the help of NLP we can get a clearer sense what is happening in our politic landscape and get a better understanding who we could count on. \n",
    "\n",
    "The Dutch parliament is chosen in a parliamentaric democratic manner. This means that there are many parties with a lot of different views. This still does not mean that the biggest party would rule on its own, but that they have to form a coalition with other parties to reach a majority of the seats in the house of representatives. In this process the parties that want to be part of this coalition will meet with eachother and try to compromise until they can agree that they could work together to rule the Netherlands. This means that many of point of their program during the campaign will never make it in effect. \n",
    "With half of the pandemic behind us and people having to suffer some loss of freedom in order to preserve the health of the country, they are eager to vote so their voice is represented in the upcoming parliament. The problem is that many people do not know for which party to vote, also because many of the campaign gets lost when forming a coalition.\n",
    "\n",
    "Therefore it would be useful to get a more clear idea of parties their preferences and opinions while already in the house of representatives and to find the right information about how the parties approach different topics in practice. Luckily CLARIN, a distributed digital infrastructure with participants from different European institutes, had roughly the same idea on a continental scale. It started their ParlaMint project that aims to provide is a verified communication channel between the elected political representatives and society members in any democracy. Their mission in the ParlaMint project is to  turn multilingual and diverse parliamentary data into coparable and interpretable resources. \n",
    "\n",
    "With upcoming elections in mind, this notebook aims to show how NLP can be used to provide information about the Dutch political landscape. Especially regarding the parties that were included in the house of representatives. With 4 different research questions we hope to provide an extensive overview of sentiment, topics and framing."
   ]
  },
  {
   "cell_type": "markdown",
   "id": "competitive-composer",
   "metadata": {},
   "source": [
    "## 1.1. RQ's"
   ]
  },
  {
   "cell_type": "markdown",
   "id": "smart-islam",
   "metadata": {},
   "source": [
    "For this research there will be four research questions, which all will be introduced separately at the beginning of sections 3, 4, 5 and 6. The four research questions that will be covered in this research will be: \n",
    "1. What differences in political ideologies, based on the sentiment of dutch parliament parties on Covid-19 related topics, can be derived through the sentiment analysis of political debates?\n",
    "2. What are the topics where parties would speak with a positive or negative sentiment about eachother before and during the pandemic?\n",
    "3. How have political parties changed how they talk about major political issues during the corona crisis. \n",
    "4. Which political parties do talk positive or negative about accepting refugees?"
   ]
  },
  {
   "cell_type": "markdown",
   "id": "social-seminar",
   "metadata": {},
   "source": [
    "# 2. Datasets"
   ]
  },
  {
   "cell_type": "markdown",
   "id": "experienced-float",
   "metadata": {},
   "source": [
    "The data was provided by [CLARIN](https://www.clarin.eu/) in cooperation with the University of Amsterdam. CLARIN hosts a project called [ParlaMint](https://www.clarin.eu/content/parlamint-towards-comparable-parliamentary-corpora) with contributing institutes around Europe. The ParlaMint project provided us a dataset of 5198 files with transcripts from the dutch parliament. This entails transcripts from the house of representatives and the senate from 06-04-2014 until 03-11-2020. These transcripts are given in XML files where the tags and their different attributes are useful for extra information about the utterances in the data. The data also came with a meta-data file containing all the information needed about the different speakers who made such utterances in either the house of representatives or the senate. The meta-data file holds the information of 493 different speakers annotated with party, gender, and time active in the parliament. The amount of parties included in the data is 28."
   ]
  },
  {
   "cell_type": "markdown",
   "id": "settled-florist",
   "metadata": {},
   "source": [
    "# 3. RQ1 - Differences in political ideology based on sentiment analysis"
   ]
  },
  {
   "cell_type": "markdown",
   "id": "convinced-powder",
   "metadata": {},
   "source": [
    "For this research question, see group5_1_QuintenBolding.ipynb"
   ]
  },
  {
   "cell_type": "markdown",
   "id": "subjective-stupid",
   "metadata": {},
   "source": [
    "# 4. RQ2 - Sentiment and topics in the Dutch parliament"
   ]
  },
  {
   "cell_type": "markdown",
   "id": "seeing-tobago",
   "metadata": {},
   "source": [
    "For this research question, see group5_2_MartenRozema.ipynb"
   ]
  },
  {
   "cell_type": "markdown",
   "id": "imported-great",
   "metadata": {},
   "source": [
    "# 5. RQ3 - Framing of political issues during corona crisis"
   ]
  },
  {
   "cell_type": "markdown",
   "id": "uniform-league",
   "metadata": {},
   "source": [
    "For this research question, see group5_3_SavinavanRielova.ipynb"
   ]
  },
  {
   "cell_type": "markdown",
   "id": "listed-canadian",
   "metadata": {},
   "source": [
    "# 6. RQ4 - Dutch Parties about Refugees"
   ]
  },
  {
   "cell_type": "markdown",
   "id": "occupational-possibility",
   "metadata": {},
   "source": [
    "For this research question, see group5_4_JulottevanderBeek.ipynb"
   ]
  },
  {
   "cell_type": "markdown",
   "id": "neural-worthy",
   "metadata": {},
   "source": [
    "# 7. Conclusions"
   ]
  },
  {
   "cell_type": "markdown",
   "id": "modified-hudson",
   "metadata": {},
   "source": [
    "Still have to write all the conclusions here:\n",
    "\n",
    "__RQ1. What differences in political ideologies, based on the sentiment of dutch parliament parties on Covid-19 related topics, can be derived through the sentiment analysis of political debates?__\n",
    "\n",
    "__RQ2. What are the topics where parties would speak with a positive or negative sentiment about eachother before and during the pandemic?__\n",
    "\n",
    "__RQ3. How have political parties changed how they talk about major political issues during the corona crisis.__\n",
    "\n",
    "__RQ4. Which political parties do talk positive or negative about accepting refugees?__"
   ]
  }
 ],
 "metadata": {
  "kernelspec": {
   "display_name": "p36workshop",
   "language": "python",
   "name": "p36workshop"
  },
  "language_info": {
   "codemirror_mode": {
    "name": "ipython",
    "version": 3
   },
   "file_extension": ".py",
   "mimetype": "text/x-python",
   "name": "python",
   "nbconvert_exporter": "python",
   "pygments_lexer": "ipython3",
   "version": "3.6.13"
  }
 },
 "nbformat": 4,
 "nbformat_minor": 5
}
