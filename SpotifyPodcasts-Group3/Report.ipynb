{
  "nbformat": 4,
  "nbformat_minor": 0,
  "metadata": {
    "colab": {
      "name": "Report.ipynb",
      "provenance": [],
      "collapsed_sections": [],
      "toc_visible": true
    },
    "kernelspec": {
      "name": "python3",
      "display_name": "Python 3"
    },
    "accelerator": "GPU"
  },
  "cells": [
    {
      "cell_type": "code",
      "metadata": {
        "id": "sd9bIxh6DK3w"
      },
      "source": [
        "%%capture\n",
        "!pip install vaderSentiment\n",
        "!pip install transformers\n",
        "!pip install gdown"
      ],
      "execution_count": 1,
      "outputs": []
    },
    {
      "cell_type": "code",
      "metadata": {
        "id": "KnXama3A4ZLh"
      },
      "source": [
        "%%capture\n",
        "import json\n",
        "\n",
        "import os\n",
        "from os import listdir\n",
        "from os.path import isfile, join\n",
        "from termcolor import colored\n",
        "import pickle\n",
        "from tqdm import tqdm\n",
        "from statistics import mode\n",
        "from vaderSentiment.vaderSentiment import SentimentIntensityAnalyzer\n",
        "import numpy as np\n",
        "from collections import Counter\n",
        "import zipfile\n",
        "import gdown\n",
        "\n",
        "from transformers import DistilBertForSequenceClassification,DistilBertTokenizer\n",
        "import pandas as pd\n",
        "import numpy as np\n",
        "from torch.utils.data import Dataset, TensorDataset,DataLoader\n",
        "from sklearn.model_selection import train_test_split\n",
        "import torch\n",
        "from sklearn import metrics\n",
        "from nltk.tokenize import word_tokenize,RegexpTokenizer\n",
        "from nltk.corpus import sentiwordnet as swn\n",
        "\n",
        "import pandas as pd\n",
        "\n",
        "from sklearn.cluster import KMeans\n",
        "from sklearn.model_selection import train_test_split\n",
        "from sklearn.feature_extraction.text import TfidfVectorizer\n",
        "from sklearn.metrics import accuracy_score, confusion_matrix, precision_score, recall_score, f1_score\n",
        "from sklearn.metrics import classification_report\n",
        "\n",
        "import matplotlib.pyplot as plt\n",
        "\n",
        "import seaborn\n",
        "\n",
        "from matplotlib.colors import LinearSegmentedColormap\n",
        "\n",
        "import urllib.request\n",
        "\n",
        "from gensim.models import Word2Vec\n",
        "from gensim.models.phrases import Phrases, Phraser\n",
        "\n",
        "import nltk\n",
        "nltk.download('averaged_perceptron_tagger')\n",
        "nltk.download('punkt')\n",
        "nltk.download('wordnet')\n",
        "nltk.download('sentiwordnet')"
      ],
      "execution_count": 2,
      "outputs": []
    },
    {
      "cell_type": "code",
      "metadata": {
        "colab": {
          "base_uri": "https://localhost:8080/"
        },
        "id": "vWPmzYRKGvKR",
        "outputId": "30a23686-a7e3-4971-9939-db481db52c6b"
      },
      "source": [
        "# set runtime type on GPU (!), otherwise some code will run really slow\n",
        "device = torch.device(\"cuda\") if torch.cuda.is_available() else torch.device(\"cpu\")\n",
        "print('Device available:', device)"
      ],
      "execution_count": 3,
      "outputs": [
        {
          "output_type": "stream",
          "text": [
            "Device available: cuda\n"
          ],
          "name": "stdout"
        }
      ]
    },
    {
      "cell_type": "markdown",
      "metadata": {
        "id": "6T4eDwDV_V5o"
      },
      "source": [
        "# *A Sentiment Analysis of Spotify Podcasts*\r\n",
        "\r\n",
        "#### NOTE: open this notebook in Google Colab, in order to have access to GPU power\r\n",
        "\r\n",
        "#### NOTE: link to Github repo of this project: [https://github.com/bartvanvulpen/podcastDA](https://github.com/bartvanvulpen/podcastDA)\r\n",
        "\r\n",
        "\r\n",
        "\r\n"
      ]
    },
    {
      "cell_type": "markdown",
      "metadata": {
        "id": "F-HlD2Y6kvfL"
      },
      "source": [
        "\\begin{array}{c|c}\r\n",
        "\\text{Student Name}&\\text{Student ID}\\\\\\hline\r\n",
        "\\text{Bart van Vulpen}&11865210\\\\\r\n",
        "\\text{Juno Prent}&11915307\\\\\r\n",
        "\\text{Joris Hijstek}&11876980\\\\\r\n",
        "\\end{array}"
      ]
    },
    {
      "cell_type": "markdown",
      "metadata": {
        "id": "YxcGHeOF_kwZ"
      },
      "source": [
        "## Contents\n"
      ]
    },
    {
      "cell_type": "markdown",
      "metadata": {
        "id": "QCUwI6ja_yr5"
      },
      "source": [
        "## 1 Introduction\n",
        "A podcast is an audio file that contains a monologue, or a dialogue of one or more participants, which can be easily downloaded or streamed and listened to. The term podcast was first coined by the columnist and journalist Ben Hammersley in February 2004 as a way to combine the terms *'i-Pod'* and *'broadcasting'*. \n",
        "In 2005, the American company *Apple* released a new version of iTunes which provided a centralized platform for podcasts to be uploaded and downloaded from.\n",
        "\n",
        "\n",
        "It is a traditional task in A.I. to predict the general tone of a sentence or sequence. For example, a company owner might attempt to filter positive reviews from negative reviews, but this can be taxing to do by hand. Thus, the owner could decide to have the reviews analyzed by an automated agent. The conventional name for an agent performing such a task is sentiment analysis.\n",
        "\n",
        "\n",
        "Podcasts are interesting because they come in various shapes and sizes. Some are serious political talkshows while others are completely based on fiction. An interesting task would therefore be to detect the general mood throughout a podcast in order to learn more about the general composition of its contents.\n",
        "\n",
        "Therefore, the main research question will be as follows: *What sentiment patterns can be found in podcasts episodes?* The question is split up into two subquestions: *What sentiment patterns can be found within podcast dialogues?* and *What sentiment patterns can be found in podcast dialogues in general?*.\n",
        "\n",
        "Since sentiment analysis and sentiment prediction in podcasts has not been widely researched yet, several methods for this task will be explored first. Methods based on lexicons, unsupervised machine-learning and the state-of-the-art Transformer model will be examined to find the best performing architecture for predicting sentiment in podcast dialogues. Finally, the best performing method will be used to mine sentiment patterns within podcast dialogues and in podcast dialogues in general. The sentiment prediction task is described in Section 2. The background and related work of this project is described in Section 3. The properties of the dataset that is being used are assessed in Section 4. The several methods that will be examined are described in Section 5. Section 6 assesses the results, followed by the discussion, conclusion and future work in Section 7 and 8."
      ]
    },
    {
      "cell_type": "markdown",
      "metadata": {
        "id": "k_VtzYR7YcT5"
      },
      "source": [
        "## 2 The Sentiment Prediction Task\n",
        "\n",
        "A dialogue constist of mutiple utterances of each speaker participating in that dialogue. Each utterance in the dialogue has a certain degree of sentiment. These so called sentiment scores can then be used for sentiment analysis and sentiment pattern mining within and between dialogues.\n",
        "Using the sentiment prediction task, these sentiment scores can be predicted for a utterance text. The task is relatively simple and set up below. \\\n",
        "\\\n",
        "Suppose $\\mathbf{x}$ is a dialogue containing $N$ utterances:\n",
        "\n",
        "\\\n",
        "\\begin{equation}\n",
        "   \\mathbf{x}  = \\{x_1, x_2, x_3, ..., x_N \\}\n",
        "\\end{equation}\n",
        "\n",
        "\\\n",
        "In the task, the sentiment score $s_i$ of each utterance $x_i$ is predicted using a given model M.\n",
        "\\\n",
        "\\\n",
        "\\begin{equation}\n",
        "    s_i = \\mathbf{M}(x)\n",
        "\\end{equation}\n",
        "\\\n",
        "The sentiment score $s_i$ can then be classified in a label $y_i$, for example 'positive' or 'negative', based on the followinng condition:\n",
        "\n",
        "\\\n",
        "\\begin{equation}\n",
        "    y_i = \n",
        "\\begin{cases}\n",
        "    negative,& \\text{if } s_i\\lt 0\\\\\n",
        "    positive,              & \\text{otherwise}\n",
        "\\end{cases}\\\\\n",
        "\\end{equation}\n",
        "\\\n",
        "where $\\mathbf{y}$ is the vector containing de sentiment labels for the dialogue $\\mathbf{x}$.\n",
        "\\\n",
        "\\\n",
        "\\begin{equation}\n",
        "   \\mathbf{y}  = \\{y_1, y_2, y_3, ..., y_N \\}\n",
        "\\end{equation}\n",
        "\\\n",
        "Label vector $\\mathbf{y}$ can be used to get the sentiment of the total dialogue or can be used for deeper sentiment analysis, which can be seen in Section 5.5 and Section 6.2.\n"
      ]
    },
    {
      "cell_type": "markdown",
      "metadata": {
        "id": "KvZ_PGC03iNg"
      },
      "source": [
        "## 3 Related work\n",
        "\n",
        "As mentioned before, there is no previous work which analyzed the sentiment in podcasts dialogues. However, in previous work, several methods for analyzing and predicting the sentiment in other kinds of texts have been developed over the years. For example an context-based classification method on reviews was developed by [(Turney, 2002)](https://www.aclweb.org/anthology/P02-1053.pdf). Turney determined sentiment scores, there referring to them as semantic orientations of phrases, which is any two-word pair with a specific predefined combination of part-of-speech tags (i.e. ‘adverb-adjective’ or ‘adjective-singular noun’) within online reviews by looking at the amount of times the words ‘excellent’ and ‘poor’ are in the vicinity of those phrases. Sentiment can also be predicted by using a lexicon of words and their associated sentiment score. Usually these scores lie between -10 and +10, where -10 is extremely negative and +10 is extremely positive. Using such a lexicon, the sentiment prediction task is made unsupervised as well. [(Taboada et al., 2011)](https://www.mitpressjournals.org/doi/pdf/10.1162/COLI_a_00049) have shown that such lexicon-based approaches are reliable. \n",
        "They developed The Semantic Orientation CALculator (SO-CAL) that was  consistent across several domains and on unseen data.\n",
        "More statistical aproaches have been developer over the years as well. More statistical aproaches have been developer over the years as well. [(Dey et al., 2016)](https://arxiv.org/pdf/1610.09982.pdf) applied the sentiment prediction task on movie and hotel reviews using two supervised machine learning algorithms Naive Bayes' and K-Nearest Neighbour and compared both algorithm's performances. More complex machine-learning approaches are seen in the use of neural networks. [(Kumar et al., 2019)](https://arxiv.org/pdf/1911.12569.pdf) developed a method for sentiment prediction based on a attention-based Bi-directional LSTM architecture and a distributional Thesaurarus for external knowledge. This method outperformed the state-of-the-art systems on the SemEval 2016 and the Stance Sentiment Emotion Corpus on F-score. Besides LSTM networks,  Convolutional Neural Networks (CNNs) can also be used for the task, as [(Kim, 2014)](https://arxiv.org/pdf/1408.5882.pdf) showed by training a simple CNN on several tasks, including sentiment prediction on customer reviews, which showed state-of-the-art performance as well.\n",
        "\n",
        "Nowadays, state-of-the-art pretrained models are can be finetuned for the sentiment prediction task as well. A good example is BERT (Bidirectional Encoder Representations from Transformers), a Transformer-based [(Vaswani et al., 2017)](https://arxiv.org/pdf/1706.03762.pdf) non-autoregressive language generation model that is very good at predicting the next word in a sequence. BERT is pre-trained on a large corpus of unlabelled text including more than 3,300 millionn words. The model that can be finetuned for several tasks like text summarization and machine translation, but also sentiment prediction. There exists even bigger and more complex models for sentiment prediction that are the current state-of-the-art for this task, like  SMART-RoBERTa Large [(Jiang et al., 2021)](https://arxiv.org/pdf/1911.03437v4.pdf), NB-weighted-BON + dv-cosine [(Thongtan & Phienthrakul, 2019)](https://www.aclweb.org/anthology/P19-2057.pdf) and XLNET [(Yang et al., 2020)](https://arxiv.org/pdf/1906.08237v2.pdf)."
      ]
    },
    {
      "cell_type": "markdown",
      "metadata": {
        "id": "vL7boZQAAo4k"
      },
      "source": [
        "## 4 Dataset\n",
        "\n",
        "\n"
      ]
    },
    {
      "cell_type": "markdown",
      "metadata": {
        "id": "C7Uvm7mY322y"
      },
      "source": [
        "### 4.1 Spotify Podcast Dataset\n",
        "For analyzing the sentiment within and between podcasts, the Spotify Podcast Dataset \n",
        "[(Clifton et al., 2020)](https://arxiv.org/pdf/2004.04270.pdf) was used. This dataset contains over 100,000 randomly sampled podcast episodes. Each episode has an audio file containing the podcast itself. Also, a transcript was made for each episode using Google's Speech-To-Text model, with a word error rate of 18.1%. Each transcript also contains speaker tags that indicate the speaker who is actually talking. Finally, some metadata was provided containing information about the podcast itself (e.g. language and name). \n",
        "In total, the dataset contains more than 2TB of audio files and more than 100GB of transcript files in JSON format. "
      ]
    },
    {
      "cell_type": "markdown",
      "metadata": {
        "id": "a8pvzUNk36SF"
      },
      "source": [
        "### 4.2 Data Preprocessing\n",
        "In this project, only the transcripts were used. Due to lack of computational resources, a subset containing more than 40GB of transcripts was taken. Each JSON file containing the transcript of one episode was processed into a Pandas Dataframe containing each utterance in the dialogue with the corresponding speaker tag. Also, an empty sentiment column called *sentiment_score* was added to the dataframe. Below an example of the data structure is shown.\n",
        "\n"
      ]
    },
    {
      "cell_type": "code",
      "metadata": {
        "colab": {
          "base_uri": "https://localhost:8080/",
          "height": 204
        },
        "id": "ZG-wbv1lQNzb",
        "outputId": "af66f97d-615b-41eb-9e39-d0fcd8e2b526"
      },
      "source": [
        "urllib.request.urlretrieve('https://drive.google.com/uc?id=1GDX2SxEma1ysjWMqqyQugUFXAYdmut7N&export=download', 'dialogue_example.csv')\n",
        "# load binary validation dataset\n",
        "example_df = pd.read_csv('dialogue_example.csv', sep='\\t').drop('Unnamed: 0', axis=1)\n",
        "example_df.head(5)"
      ],
      "execution_count": 4,
      "outputs": [
        {
          "output_type": "execute_result",
          "data": {
            "text/html": [
              "<div>\n",
              "<style scoped>\n",
              "    .dataframe tbody tr th:only-of-type {\n",
              "        vertical-align: middle;\n",
              "    }\n",
              "\n",
              "    .dataframe tbody tr th {\n",
              "        vertical-align: top;\n",
              "    }\n",
              "\n",
              "    .dataframe thead th {\n",
              "        text-align: right;\n",
              "    }\n",
              "</style>\n",
              "<table border=\"1\" class=\"dataframe\">\n",
              "  <thead>\n",
              "    <tr style=\"text-align: right;\">\n",
              "      <th></th>\n",
              "      <th>speaker_tag</th>\n",
              "      <th>text</th>\n",
              "      <th>sentiment_score</th>\n",
              "    </tr>\n",
              "  </thead>\n",
              "  <tbody>\n",
              "    <tr>\n",
              "      <th>0</th>\n",
              "      <td>3</td>\n",
              "      <td>The subconscious mind creates the personality....</td>\n",
              "      <td>NaN</td>\n",
              "    </tr>\n",
              "    <tr>\n",
              "      <th>1</th>\n",
              "      <td>1</td>\n",
              "      <td>Hi everyone. This is the Tuda and you are in s...</td>\n",
              "      <td>NaN</td>\n",
              "    </tr>\n",
              "    <tr>\n",
              "      <th>2</th>\n",
              "      <td>3</td>\n",
              "      <td>Very well actually is enjoying your London. It...</td>\n",
              "      <td>NaN</td>\n",
              "    </tr>\n",
              "    <tr>\n",
              "      <th>3</th>\n",
              "      <td>1</td>\n",
              "      <td>Thank you so much for coming. I'm looking forw...</td>\n",
              "      <td>NaN</td>\n",
              "    </tr>\n",
              "    <tr>\n",
              "      <th>4</th>\n",
              "      <td>3</td>\n",
              "      <td>Yes, definitely. The interesting thing is that...</td>\n",
              "      <td>NaN</td>\n",
              "    </tr>\n",
              "  </tbody>\n",
              "</table>\n",
              "</div>"
            ],
            "text/plain": [
              "   speaker_tag  ... sentiment_score\n",
              "0            3  ...             NaN\n",
              "1            1  ...             NaN\n",
              "2            3  ...             NaN\n",
              "3            1  ...             NaN\n",
              "4            3  ...             NaN\n",
              "\n",
              "[5 rows x 3 columns]"
            ]
          },
          "metadata": {
            "tags": []
          },
          "execution_count": 4
        }
      ]
    },
    {
      "cell_type": "markdown",
      "metadata": {
        "id": "KdwHtAtmQTNz"
      },
      "source": [
        "Each DataFrame was exported to a .CSV file. Dialogues with less than five utterances were filtered out. Using the metadata non-English episodes were filtered out as well. This finally resulted in a dataset of 37,610 dialogues, containing 3,014,600 utterances in total. This dataset was split up into three subsets, so each method had it's own dataset to work with.\n"
      ]
    },
    {
      "cell_type": "markdown",
      "metadata": {
        "id": "Jc8gfGH_4CaF"
      },
      "source": [
        "\n",
        "### 4.3 Labeling Data\n",
        "In order to evaluate each examined method, it was necessary to have a small labeled dataset. Thus, the sentiment of each utterance in several podcast dialogue transcripts were labeled as either negative (0) or positive (1). Since the utterances were automatically generated with a word error rate of 18.1% and dialogue utterances can get really long in podcasts, we decided to not take *neutral* sentiment into account. Taking the neutral label into account as well would make the sentiment prediction task much more difficult and less accurate.\n",
        "\n",
        "In total, 4304 utterances in 54 podcast dialogues were labeled. From these labeled dialogues, a training and validation set was generated by taking a random sample of their utterances.The validation set was used for evaluation of all methods but the Neighbourhood-based Method, as that requires the context of an utterance to score it. There, entire labeled transcripts were randomly picked to train and validate with. The training set was used for the DistilBert sentiment classifier only.\n"
      ]
    },
    {
      "cell_type": "markdown",
      "metadata": {
        "id": "tYrVg9CNAHGA"
      },
      "source": [
        "## 5 Methods\n"
      ]
    },
    {
      "cell_type": "markdown",
      "metadata": {
        "id": "XI7dOZ4_AtW3"
      },
      "source": [
        "### 5.1 Lexicon-based Sentiment Prediction\n",
        "\n",
        "The first method that was examined made us of lexicons to predict the sentiment of dialogue utterances. In this relatively simple method, two approaches were examined, the first by using SentiWordNet 3.0 \n",
        "[(Baccianella et al., 2010)](http://www.lrec-conf.org/proceedings/lrec2010/pdf/769_Paper.pdf) and the other by using a rule- and lexicon-based sentiment analyzer called VADER."
      ]
    },
    {
      "cell_type": "markdown",
      "metadata": {
        "id": "TJsXfC23Dp1J"
      },
      "source": [
        "#### 5.1.1 SentiWordNet\n",
        "In this approach, the lexical resource called SentiWordNet was used. This lexicon is made for opinion mining and sentiment analysis and is based on the famous WordNet [(George A. Miller (1995)](https://www.aclweb.org/anthology/H94-1111.pdf). For each synset (a set of synonyms that share a common meaning) in WordNet, a positivity score, negativity score and objectivity score is assigned by SentiWordNet, so it simply is a large corpus containing POS-tagged English words along with their sentiment scores. \n",
        "The lexicon is built on a combination of a quantitive analysis of the glosses associated to synsets in WordNet and a machine learning-based synset classification using the resulting vectoral term representations of the synset glosses [(Esuli & Sebastiani, 2006)](http://nmis.isti.cnr.it/sebastiani/Publications/LREC06.pdf).\n",
        "\n",
        "For predicting the sentiments in a podcast dialogue, each utterance was first tokenized into tokens (or words). Subsequently, the POS-tags for each token were obtained using NLTK's POS tagger. Then, each token was lemmatized and the synset for that token was obtained using its lemma and POS-tag. Thereafter, he sentiment of each token was calculated using the  formula below, where S corresponds items in the token's synset, N to the number of items in the synset and $p\\_score$ and $n\\_score$ to the positivity score and negativity score respectively.\n",
        "\\\n",
        "\\\n",
        "\\begin{equation}\n",
        "  \\text{sentiment score} = \\frac{1}{N}\\sum_{s \\in S}^{N}s_{p\\_score} - s_{n\\_score}\n",
        "\\end{equation} \\\\\n",
        "\n",
        "Finally, in order to calculate the total sentiment of the utterance, the average score of all tokens was taken. The total sentiment was classified as $0$ (negative) or $1$ (positive) using the condition in described in Section 2.\n",
        "\n",
        "In the cell below the Python function for predicting the sentiment label of a podcast dialogue utterance is shown."
      ]
    },
    {
      "cell_type": "code",
      "metadata": {
        "id": "852xFBsVA9tQ"
      },
      "source": [
        "def SentiWordNet_sentiment(utterance):\n",
        "    \"\"\"\n",
        "    Returns the sentiment label (0 or 1) for a podcast utterance with tagged tokens \n",
        "    using SentiWordNet\n",
        "    \"\"\"\n",
        "    # tokenize utterance\n",
        "    lemmatizer = nltk.WordNetLemmatizer()\n",
        "    tokens = nltk.word_tokenize(utterance)\n",
        "    \n",
        "    # POS tag utterance\n",
        "    tagged_tokens = nltk.pos_tag(tokens)\n",
        "    \n",
        "    # assign sentiment score using SentiWordNet, including synonyms\n",
        "    tokens_sentiment_scores = []\n",
        "    for token in tagged_tokens:\n",
        "        tag = ''\n",
        "        lemma = lemmatizer.lemmatize(token[0])\n",
        "        if token[1].startswith('N'):\n",
        "            tag = 'n'\n",
        "        elif token[1].startswith('J'):\n",
        "            tag = 'a'\n",
        "        elif token[1].startswith('V'):\n",
        "            tag = 'v'\n",
        "        elif token[1].startswith('R'):\n",
        "            tag = 'r'\n",
        "        if tag != '':\n",
        "            # also get sentiments for synonyms\n",
        "            synonyms = list(swn.senti_synsets(lemma, tag)) \n",
        "            token_sentiment = 0\n",
        "            if len(synonyms) > 0:\n",
        "                for synonym in synonyms:\n",
        "                    token_sentiment += synonym.pos_score() - synonym.neg_score()\n",
        "                tokens_sentiment_scores.append(token_sentiment/len(synonyms))      \n",
        "   \n",
        "    if tokens_sentiment_scores != []:\n",
        "        sentiment_score = sum(tokens_sentiment_scores)/len(tokens_sentiment_scores) \n",
        "\n",
        "        if sentiment_score >= 0:\n",
        "            return 1\n",
        "        elif sentiment_score < 0:\n",
        "            return 0\n",
        "    else:   \n",
        "        return 1"
      ],
      "execution_count": 5,
      "outputs": []
    },
    {
      "cell_type": "markdown",
      "metadata": {
        "id": "VCtkWGX_Dilu"
      },
      "source": [
        "#### 5.1.2 VADER Sentiment\n",
        "VADER stands for **V**alence **A**ware **D**ictionary and s**E**ntiment **R**easoner. It is a lexicon and rule-based tool for sentiment-analysis, especially for social media texts [(Hutto & Gilbert, 2014)](https://www.aaai.org/ocs/index.php/ICWSM/ICWSM14/paper/download/8109/8122/). Vader is based on quantitative and qualitative methods. They first labeled a large lexicon of words with their corresponding sentiment. Subsequently, they combined this lexicon with five rules that represent syntactical and grammatical conventions for expressing sentiment. This makes VADER intelligent enough to understand that “did not love”  is negative and while “love\" is a word with high positive sentiment. VADER is also able to understand  capitalisation and punctuation. For example, ‘GREAT’ and ‘amazing!’ have a higher positive sentiment word than ‘great’ and ‘amazing’.\n",
        "\n",
        "In this approach, the compound (positive, negative and neutral combined) VADER polarity score is used to calculate the sentiment score of an utterance. Following the same condition as the SentiWordNet approach this score is then transformed into a sentiment label."
      ]
    },
    {
      "cell_type": "code",
      "metadata": {
        "id": "PEehHjnXD_Ce"
      },
      "source": [
        "def VADER_sentiment(utterance):\n",
        "    \"\"\"\n",
        "    Returns the VADER-based sentiment label (0 or 1) of a dialogue utterance \n",
        "    using the compound sentiment score.\n",
        "    \"\"\"\n",
        "    analyser = SentimentIntensityAnalyzer()\n",
        "    score = analyser.polarity_scores(utterance)['compound']   \n",
        "    if score >= 0:\n",
        "        return 1\n",
        "    elif score < 0:\n",
        "        return 0"
      ],
      "execution_count": 6,
      "outputs": []
    },
    {
      "cell_type": "markdown",
      "metadata": {
        "id": "1-HzM_sRAuZ4"
      },
      "source": [
        "### 5.2 Neighbourhood-based Method\n",
        "\n",
        "The second method was based on the previously mentioned works of [Turney  (2002)](https://www.aclweb.org/anthology/P02-1053.pdf), in which the sentiment scores of online reviews are calculated by looking at the neighbouring words of certain phrases within those reviews. For lack of a better term, this method will be referred to as Neighbourhood-based Method throughout this paper.  For each of those phrases, the amount of occurrences of the words ‘excellent’ and ‘poor’ in the previous and next 10 words are counted, which is derived from the way the AltaVista seach engine’s NEAR operator works. The final semantic orientation of a phrase is then defined as: \n",
        "\n",
        "\\begin{equation}\n",
        "SO = \\log(\\frac{hits(\\text{phrase NEAR 'excellent'})hits(\\text{'poor'})}{hits(\\text{phrase NEAR} 'poor')hits(\\text{'excellent'})})\n",
        "\\end{equation} \\\\\n",
        "\n",
        "To determine whether any two-word pair was a phrase, the following function was used:\n",
        "\n",
        "\n",
        "\n"
      ]
    },
    {
      "cell_type": "code",
      "metadata": {
        "id": "laFOUr7oa0-A"
      },
      "source": [
        "# Determines whether two words are considered a phrase according to 'Thumbs Up or Thumbs Down? \n",
        "# Semantic Orientation Applied to Unsupervised Classification of Reviews' by Peter D. Turney, 2002.\n",
        "\n",
        "def is_phrase(word_index, words):\n",
        "    first_tag = nltk.pos_tag([words[word_index]])[0][1]\n",
        "    second_tag = nltk.pos_tag([words[word_index + 1]])[0][1]\n",
        "    # Considers the tag of the word after the potential phrase, if there is one.\n",
        "    try:\n",
        "        third_tag = nltk.pos_tag([words[word_index + 2]])[0][1]\n",
        "    except IndexError:\n",
        "        pass\n",
        "    \n",
        "    if first_tag == 'JJ':\n",
        "        if second_tag in ['NN', 'NNS']:\n",
        "            return True\n",
        "        elif second_tag == 'JJ':\n",
        "            try:\n",
        "                if third_tag not in ['NN', 'NNS']:\n",
        "                    return True\n",
        "            except NameError:\n",
        "                return True\n",
        "    elif first_tag in ['RB', 'RBR', 'RBS']:\n",
        "        if second_tag == 'JJ':\n",
        "            try:\n",
        "                if third_tag not in ['NN', 'NNS']:\n",
        "                    return True\n",
        "            except NameError:\n",
        "                return True\n",
        "        elif second_tag in ['VB', 'VBD', 'VBN', 'VBG']:\n",
        "            return True\n",
        "    elif first_tag in ['NN', 'NNS']:\n",
        "        if second_tag == 'JJ':\n",
        "            try:\n",
        "                if third_tag not in ['NN', 'NNS']:\n",
        "                    return True\n",
        "            except NameError:\n",
        "                return True\n",
        "    # If no correct combination is found, the word pair is not a phrase\n",
        "    return False"
      ],
      "execution_count": 7,
      "outputs": []
    },
    {
      "cell_type": "markdown",
      "metadata": {
        "id": "fzi05F-Oa13y"
      },
      "source": [
        "Applying a method for sentiment analysis that was created for online reviews and applying it to podcast transcripts (or any written dialogue for that matter) quickly presented several needs for alterations. Firstly, the range 10 previous and next words was too low. This value, from now on referred to as the NEAR value, was always at least 50 during the evaluation. Secondly, the words ‘excellent’ and ‘poor’ proved to be far too scarcely used to get accurate scores. To better capture the broad range of vocabulary that is used by different people across many podcasts, two lists – one with positive words, one with negative ones – were used instead. These were each comprised of the most frequent adjectives across the dataset and some more frequent sentiment indicating words such as ‘yes’ and ‘no’. This lead to the following lists:\n",
        "<br/>\n",
        "<br/>\n",
        "\\begin{equation}\n",
        "\\\\\n",
        "\\text{Positive words} = [\\text{'good', 'great', 'nice', 'happy', 'easy', 'yes', 'yeah', 'love', 'big', 'right', 'awesome', 'thank', 'thanks'}] \\\\\n",
        "\\text{Negative words} = [\\text{'bad', 'horrible', 'tough', 'sad', 'hard', 'no', 'shit', 'hate', 'little', 'wrong', 'stupid', 'sorry'}]\n",
        "\\end{equation} \\\\\n",
        "\n",
        "To stay in line with the utterance scoring of the other methods, each utterance got assigned its sentiment score by taking the average of the scores of all phrases within that utterance. Utterances that don’t contain any phrases are assigned a score that is based on the average of the scores of the nearest previous and next utterances that do already have a sentiment score. As the scores had to be between -1 and 1, the score of each utterance in a transcript was normalized by dividing by the highest absolute value among them. The final change from the method of Turney is that a phrase is given a score if it has at least two positive and two negative words near it, instead of at least four words each. All this lead to the following functions to assign scores to utterances:"
      ]
    },
    {
      "cell_type": "code",
      "metadata": {
        "id": "GaUQOSldbP9U"
      },
      "source": [
        "# For each utterance that wasn't assigned a score (either by not containing a phrase at all\n",
        "# or by not containing any with enough positive and negative words surrounding it), an average\n",
        "# of the scores of the nearest previous and next utterance is used\n",
        "\n",
        "def fill_nans(df):\n",
        "    replacements = df['predicted_score'].copy()\n",
        "    for i in range(len(df)):\n",
        "        if np.isnan(df['predicted_score'][i]):\n",
        "            new_values = []\n",
        "            j = i-1\n",
        "            while j >= 0:\n",
        "                if not np.isnan(df['predicted_score'][j]):\n",
        "                    new_values.append(1 / ((i - j) + 1) * df['predicted_score'][j])\n",
        "                    break\n",
        "                j -= 1\n",
        "            j = i+1\n",
        "            while j < len(df):\n",
        "                if not np.isnan(df['predicted_score'][j]):\n",
        "                    new_values.append(1 / ((j - i) + 1) * df['predicted_score'][j])\n",
        "                    break\n",
        "                j += 1\n",
        "            if new_values:\n",
        "                replacements[i] = np.mean(new_values)\n",
        "            else:\n",
        "                replacements[i] = 1\n",
        "    df['predicted_score'] = replacements\n",
        "    return df"
      ],
      "execution_count": 8,
      "outputs": []
    },
    {
      "cell_type": "code",
      "metadata": {
        "id": "_15w9Kp8bUPq"
      },
      "source": [
        "# Assigns a sentiment score between 0 and 1 for each utterance in the dataframe\n",
        "\n",
        "def add_scores(df, NEAR, pos_words, neg_words):\n",
        "    # Considers the previous and upcoming NEAR words surrounding the phrase\n",
        "    utt_lens = []\n",
        "    utt_scores = []\n",
        "    all_words = []\n",
        "    utt_idx = 0\n",
        "    df['predicted_score'] = np.nan\n",
        "    \n",
        "    \n",
        "    # Gets the length of each utterance so the semantic scores are assigned to the\n",
        "    # correct utterance, also a list with all words\n",
        "    for utt in df.text:\n",
        "        utt_lens.append(len([w for w in nltk.word_tokenize(utt) if w not in ['.', ',', '?', '!', '\\'']]))\n",
        "        all_words += [w for w in nltk.word_tokenize(utt) if w not in ['.', ',', '?', '!', '\\'']]\n",
        "\n",
        "    # Checks how many positive and negative words the enitre text contains\n",
        "    word_counter = Counter([w.lower() for w in all_words])\n",
        "    pos_hits = sum([word_counter[p] for p in pos_words]) + 0.01\n",
        "    neg_hits = sum([word_counter[n] for n in neg_words]) + 0.01\n",
        "    \n",
        "    for i in range(len(all_words) - 1):\n",
        "        # Keeps track of which utterance every possible phrase is in\n",
        "        if i >= sum(utt_lens[:utt_idx+1]) or i == len(all_words) - 2:\n",
        "            # When going to a new utterance, assigns the mean of the semantic scores\n",
        "            # of each phrase in the previous utterance as the score of that utterance\n",
        "            if utt_scores:\n",
        "                df['predicted_score'][utt_idx] = np.mean(utt_scores)\n",
        "            utt_idx += 1\n",
        "            utt_scores = []\n",
        "        # Creates list of neighbouring words of each phrase found, accounting for edge cases\n",
        "        if is_phrase(i, all_words):\n",
        "            neighbourhood = []\n",
        "            if NEAR > i:\n",
        "                neighbourhood += all_words[:i]\n",
        "            else:\n",
        "                neighbourhood += all_words[i-NEAR:i]\n",
        "            if i != len(all_words) - 2:\n",
        "                try:\n",
        "                    neighbourhood += all_words[i+2:i+2+NEAR]\n",
        "                except IndexError:\n",
        "                    neighbourhood += all_words[i+2:len(words)]\n",
        "            # Counts the amount of positive and negative words in the neighbourhood\n",
        "            neighbourhood_counter = Counter([w.lower() for w in neighbourhood])\n",
        "            pos_neigh_hits = sum([neighbourhood_counter[p] for p in pos_words]) + 0.01\n",
        "            neg_neigh_hits = sum([neighbourhood_counter[n] for n in neg_words]) + 0.01\n",
        "            # Applies the function from the paper to calculate the phrase's score\n",
        "            if pos_neigh_hits > 2 and neg_neigh_hits > 2:\n",
        "                score = np.log((pos_neigh_hits * neg_hits)/ (neg_neigh_hits * pos_hits))\n",
        "                utt_scores.append(score)\n",
        "                \n",
        "\n",
        "    # Normalizes each predicted sentiment score\n",
        "    df = fill_nans(df)\n",
        "    abs_max = max([max(df['predicted_score']), -min(df['predicted_score'])])\n",
        "    if abs_max:\n",
        "        df.loc[:, 'predicted_score'] += abs_max\n",
        "        df.loc[:, 'predicted_score'] /= (2*abs_max)\n",
        "    df.loc[df.predicted_score >= 0.5, 'predicted_score'] = 1.0\n",
        "    df.loc[df.predicted_score < 0.5, 'predicted_score'] = 0.0\n",
        "        \n",
        "\n",
        "    return df"
      ],
      "execution_count": 9,
      "outputs": []
    },
    {
      "cell_type": "markdown",
      "metadata": {
        "id": "dnS36uM_tUjN"
      },
      "source": [
        "### 5.3 Unsupervised Sentiment Prediction Using Word2Vec, K-means, and TF-IDF\r\n",
        "The general idea behind sentiment analysis is detecting a tone in a segment of speech. However, this can be quite difficult to achieve if the training data is not labeled. The method used below utilizes TF-IDF [(Spärck Jones, 1972)](https://pdfs.semanticscholar.org/4f09/e6ec1b7d4390d23881852fd7240994abeb58.pdf?source=post_page---------------------------), Word2Vec [(Mikolov et al., 2013)](https://arxiv.org/pdf/1310.4546.pdf) and K-means[(J MacQueen, 1967)](https://www.cs.cmu.edu/~bhiksha/courses/mlsp.fall2010/class14/macqueen.pdf).\r\n",
        "\r\n",
        "First, the datasets that will be used for training and evaluation are loaded.\r\n"
      ]
    },
    {
      "cell_type": "code",
      "metadata": {
        "id": "DU-YXs5WtT_w"
      },
      "source": [
        "# Function that removes punctuation, lowercases everything (to normalize), tokenizes, and converts the labels to int\r\n",
        "def clean_data(df):\r\n",
        "    tokenizer = RegexpTokenizer(r'\\w+')\r\n",
        "    df['text'] = df['text'].str.lower()\r\n",
        "    df['text_tokenized'] = df['text'].apply(tokenizer.tokenize)\r\n",
        "    return df"
      ],
      "execution_count": 10,
      "outputs": []
    },
    {
      "cell_type": "code",
      "metadata": {
        "id": "j_FWHEebtaRJ",
        "colab": {
          "base_uri": "https://localhost:8080/"
        },
        "outputId": "cf4f5ae0-c696-4fc1-b6fc-898ed202f0cf"
      },
      "source": [
        "# download training dataset\r\n",
        "url = 'https://drive.google.com/uc?id=173Nk1f8wmK9MsmKTdbOdXA6fKEjD__8J'\r\n",
        "output = 'training_set.csv'\r\n",
        "gdown.download(url, output, quiet=False)\r\n",
        "df_train = pd.read_csv('training_set.csv', sep='\\t')\r\n",
        "\r\n",
        "# Normalize and clean text\r\n",
        "df_train = clean_data(df_train)\r\n",
        "text = df_train['text_tokenized'].values"
      ],
      "execution_count": 11,
      "outputs": [
        {
          "output_type": "stream",
          "text": [
            "Downloading...\n",
            "From: https://drive.google.com/uc?id=173Nk1f8wmK9MsmKTdbOdXA6fKEjD__8J\n",
            "To: /content/training_set.csv\n",
            "100%|██████████| 1.24M/1.24M [00:00<00:00, 124MB/s]\n"
          ],
          "name": "stderr"
        }
      ]
    },
    {
      "cell_type": "markdown",
      "metadata": {
        "id": "s2fQZU3bC8D8"
      },
      "source": [
        "\r\n",
        "\r\n",
        "Using gensim's Phrases and Phraser modules, the most common phrases can be extraced from the corpus. The parameter *min_count* can be utilized to create a lower boundry for the minimal frequency of terms in the corpus. This means that higher values of *min_count* result in a decreased number of terms in the final corpus.\r\n"
      ]
    },
    {
      "cell_type": "code",
      "metadata": {
        "id": "udOM5gEDYdyM"
      },
      "source": [
        "optimized_terms = Phraser(Phrases(text, min_count=2))\r\n",
        "text_final = optimized_terms[text]"
      ],
      "execution_count": 12,
      "outputs": []
    },
    {
      "cell_type": "markdown",
      "metadata": {
        "id": "kMY5y4QXH9xh"
      },
      "source": [
        "#### 5.3.1 Word2Vec\r\n",
        "First, in order to model the relationship between different terms in the dataset, Word2Vec [(Mikolov et al., 2013)](https://arxiv.org/pdf/1310.4546.pdf)is used. Each words is assigned a vector that represents its compositionality compared to other words in the corpus. For example, comparing the words *'King'* and *'Queen'* trained in cooperation with a large dataset might yield vectors that are roughly interpretable as\r\n",
        "\r\n",
        "\\begin{equation}\r\n",
        "    \\text{King} = \\text{Male} + \\text{Royal}\\\\\r\n",
        "    \\text{Queen} = \\text{King} - \\text{Male} + \\text{Female}\r\n",
        "\\end{equation}\r\n",
        "\r\n",
        "Considering the size of the corpus and previous tests, a 300-dimensional Word2Vec model is built and trained using the corpus with added bigrams."
      ]
    },
    {
      "cell_type": "code",
      "metadata": {
        "id": "9VcbkpJmcha1",
        "colab": {
          "base_uri": "https://localhost:8080/"
        },
        "outputId": "cec08fa1-558b-4a01-9883-f0d2ecaf8d71"
      },
      "source": [
        "modelw2v = Word2Vec(text_final,size=300)\r\n",
        "modelw2v.build_vocab(text_final, update=True)\r\n",
        "modelw2v.train(text_final, total_examples=modelw2v.corpus_count, epochs=30)"
      ],
      "execution_count": 13,
      "outputs": [
        {
          "output_type": "execute_result",
          "data": {
            "text/plain": [
              "(4174269, 6944010)"
            ]
          },
          "metadata": {
            "tags": []
          },
          "execution_count": 13
        }
      ]
    },
    {
      "cell_type": "code",
      "metadata": {
        "id": "PkPNHXCqdAsC"
      },
      "source": [
        "word_vectors = modelw2v.wv"
      ],
      "execution_count": 14,
      "outputs": []
    },
    {
      "cell_type": "markdown",
      "metadata": {
        "id": "XJtlOpnBclrz"
      },
      "source": [
        "#### 5.3.2 K-means Clustering\r\n",
        "Using Word2Vec, each word has been given a vector. These vectors can be utilized with the K-means algorithm in order to find clusters of words that are closer together. These clusters then contain words that are distinguishable as more or less positive or negative."
      ]
    },
    {
      "cell_type": "code",
      "metadata": {
        "id": "SlJV7HARcof_"
      },
      "source": [
        "model = KMeans(n_clusters=2, max_iter=10000, random_state=True, n_init=1000).fit(X=word_vectors.vectors.astype('double'))"
      ],
      "execution_count": 15,
      "outputs": []
    },
    {
      "cell_type": "markdown",
      "metadata": {
        "id": "hRWkdqZYJJTj"
      },
      "source": [
        "After training the K-means model, the obtained clusters have to be manually labeled according to which cluster is deemed more positive, and thus, which cluster is deemed more negative."
      ]
    },
    {
      "cell_type": "code",
      "metadata": {
        "id": "nEi_PfzWJGlb",
        "colab": {
          "base_uri": "https://localhost:8080/"
        },
        "outputId": "421158e9-132a-40e8-e27a-96f2fbc09b10"
      },
      "source": [
        "print(word_vectors.similar_by_vector(model.cluster_centers_[0], topn=10, restrict_vocab=None))\r\n",
        "print(word_vectors.similar_by_vector(model.cluster_centers_[1], topn=10, restrict_vocab=None))"
      ],
      "execution_count": 16,
      "outputs": [
        {
          "output_type": "stream",
          "text": [
            "[('bethenny', 0.6760615110397339), ('guilty', 0.6636659502983093), ('loyal', 0.65386962890625), ('uncomfortable', 0.6520451307296753), ('say_anything', 0.6492599844932556), ('focused', 0.6368128657341003), ('cowboy_hat', 0.629563570022583), ('unbelievable', 0.6276184320449829), ('frank', 0.6256113052368164), ('too_young', 0.6254780292510986)]\n",
            "[('combat', 0.8258557319641113), ('free_agency', 0.810555636882782), ('team_rules', 0.808019757270813), ('rate', 0.8011363744735718), ('previous', 0.800624668598175), ('creatures', 0.7997298240661621), ('chompers', 0.7956754565238953), ('kicks', 0.7945824861526489), ('our_community', 0.7945696115493774), ('uk', 0.7945586442947388)]\n"
          ],
          "name": "stdout"
        }
      ]
    },
    {
      "cell_type": "markdown",
      "metadata": {
        "id": "FTJET35KJga1"
      },
      "source": [
        "Then, as the second and final manual step, the index of the more positive cluster must be entered, according to the perceived assignment of clusters."
      ]
    },
    {
      "cell_type": "code",
      "metadata": {
        "id": "x5xOgOi0JfUw"
      },
      "source": [
        "# Enter the index of the positive cluster\r\n",
        "positive_cluster_index = 0\r\n",
        "\r\n",
        "positive_cluster_center = model.cluster_centers_[positive_cluster_index]\r\n",
        "negative_cluster_center = model.cluster_centers_[1-positive_cluster_index]"
      ],
      "execution_count": 17,
      "outputs": []
    },
    {
      "cell_type": "markdown",
      "metadata": {
        "id": "hGYwhbpVBfnt"
      },
      "source": [
        "Next, in order to create a metric that can help with classifying in the final step, the words are vectorized and assigned to a cluster. The distance, or of each word to their respective cluster is then connected to each word. Finally, a coëfficient is calculated by multiplying this distance to the respective cluster value."
      ]
    },
    {
      "cell_type": "code",
      "metadata": {
        "id": "SOjeoNgWBggy"
      },
      "source": [
        "def create_df_dict():\r\n",
        "\r\n",
        "    # Create vectors for each word\r\n",
        "    metrics_df = pd.DataFrame(word_vectors.vocab.keys())\r\n",
        "    metrics_df.columns = ['words']\r\n",
        "\r\n",
        "    # Assign words to a cluster using Sklearn's predict\r\n",
        "    metrics_df['vectors'] = metrics_df['words'].apply(lambda x: word_vectors[f'{x}'])\r\n",
        "    metrics_df['cluster'] = metrics_df['vectors'].apply(lambda x: model.predict([np.array(x)]))\r\n",
        "\r\n",
        "    # Unpack the values from list\r\n",
        "    metrics_df['cluster'] = metrics_df['cluster'].apply(lambda x: x[0])\r\n",
        "\r\n",
        "    # Assign words to cluster\r\n",
        "    metrics_df['cluster_value'] = [1 if i==positive_cluster_index else -1 for i in metrics_df['cluster']]\r\n",
        "\r\n",
        "    # Assign the inverse distance to the closest cluster to each word\r\n",
        "    metrics_df['distance'] = metrics_df.apply(lambda x: 1/(model.transform([x['vectors']]).min()), axis=1)\r\n",
        "\r\n",
        "    # Calculate the sentiment coefficient\r\n",
        "    metrics_df['sentiment_coeff'] = metrics_df['distance'] * metrics_df['cluster_value']\r\n",
        "\r\n",
        "    sentiment_dict = dict(zip(metrics_df['words'].values, metrics_df['sentiment_coeff'].values))\r\n",
        "\r\n",
        "    return metrics_df, sentiment_dict"
      ],
      "execution_count": 18,
      "outputs": []
    },
    {
      "cell_type": "markdown",
      "metadata": {
        "id": "BvdTKAKMdvoG"
      },
      "source": [
        "#### 5.3.4 The Prediction Phase\r\n",
        "After each sequence has been transformed into its corresponding TF-IDF sequence, the prediction can be obtained by calculating the dot product of the TF-IDF scores and the sentiment coefficient, which is the overall sentiment multiplied by the predicted sentiment cluster, which has a value of either -1 (negative sentiment) or 1 (positive sentiment):\r\n",
        "\r\n",
        "\\begin{equation}\r\n",
        "\\text{Sentiment prediction = TF-IDF score}\\bullet(\\text{closeness}_{min}\\cdot \\text{cluster value})\r\n",
        "\\end{equation}\r\n",
        "\r\n",
        "which is then transformed using the condition described in section 2.\r\n",
        "\r\n",
        "Now that the model is completed, the results phase contains more code for calculations performed on the validation dataset. Finally, these labels can be compared to the labeled data, which is demonstrated in section 6.1.3."
      ]
    },
    {
      "cell_type": "markdown",
      "metadata": {
        "id": "GWjLMGPzAz6p"
      },
      "source": [
        "### 5.4 DistilBERT Sentiment Prediction\n",
        "\n"
      ]
    },
    {
      "cell_type": "markdown",
      "metadata": {
        "id": "--uJERfn9ZbE"
      },
      "source": [
        "In this Deep Learning-based method, a smaller and faster version of the previously mentioned BERT model was used. This model is called DistilBERT and is 40% smaller and 60% faster than BERT, all while retaining more than 95% of BERT’s performance [(Sanh et al., 2019)](https://arxiv.org/pdf/1910.01108). DistilBERT is pretrained and was finetuned on the labeled training dataset (mentioned in Section 4) for the sentiment prediction task of podcast dialogues. Finally, the model was evaluated on the labeled validation set. During this evaluation, parameter-tuning was done with the learning-rate and the weights of the model with the best metrics were saved. The training and inference code for this model can be found on the [Github repository](https://github.com/bartvanvulpen/podcastDA) of this project, under `BERT_training.ipnyb` and `BERT_inference.ipynb` respectively. \n",
        "\n",
        "\n"
      ]
    },
    {
      "cell_type": "markdown",
      "metadata": {
        "id": "vXBqbmPJ2iu1"
      },
      "source": [
        "### 5.5 Mining Sentiment Patterns\n",
        "From the previously described methods, the best performing method in terms of accuracy, recall, precision and F1-score was applied on the dataset containing 36,318 podcast dialogue with 3,010,296 utterances. The outputs (sentiment labels per utterance per dialogue) were used to mine and analyze sentiment paterns in podcast dialogues.\n",
        "\n",
        "First, some general sentiment statistics were mined from the output produced by the best performing model. These statistic included the number of positive and negative utterances in podcasts in total as well as the number of positive labeled and negative labeled podcast episodes.\n",
        "Secondly, sentiment patterns within podcast dialogues were mined. This consists of finding the most common sentiment patterns (e.g. '+++' or '+-+') and longest patterns within podcast dialogues. Also, based on the output sentiment labels, the gradients of the sentiment within some podcast dialogues were visualized. Finally, an aggregration of the sentiment gradients of all podcast episodes was done to visualize the total sentiment gradient of podcasts in general. In order to be able to aggregrate, the output data first needed to be scaled in such way that each array of utterance labels for each dialogue had the same length. The function that scaled the data was based on percentages of segmentations within such an array of utterance labels and is declared below. \n",
        "\n",
        "\n",
        "\n"
      ]
    },
    {
      "cell_type": "code",
      "metadata": {
        "id": "R-qM-9XxEqYB"
      },
      "source": [
        "def segment_seqs(x):\n",
        "    \"\"\"\n",
        "    This function segments a list into sublists where each\n",
        "    sublist corresponds to a repetitive sequence of 0's or 1's\n",
        "    in the given list x\n",
        "    \"\"\"\n",
        "    if not x:\n",
        "        return []\n",
        "    result = [[x[0]]]\n",
        "    j = 0\n",
        "    for i in range(1, len(x)):\n",
        "        if x[i] != x[i - 1]:\n",
        "            result.append([])\n",
        "            j += 1\n",
        "        result[j].append(x[i])\n",
        "        \n",
        "    return result\n",
        "\n",
        "def scale_data(sentiment_data):\n",
        "    \"\"\"\n",
        "    Scale a list with sentiments (0's and 1's) to the max_length of the data\n",
        "    in order to aggregrate the data.\n",
        "    \"\"\"\n",
        "    max_len = max([len(i) for i in sentiment_data])\n",
        "    scaled_data = np.zeros((len(sentiment_data), max_len))\n",
        "    \n",
        "    for index, x in tqdm(enumerate(sentiment_data)):\n",
        "        old_len = len(x)\n",
        "        segmented_x = segment_seqs(x)\n",
        "\n",
        "        scaled_x = []\n",
        "        for item in segmented_x:\n",
        "\n",
        "            bit = item[0]\n",
        "            percentage = len(item)/old_len\n",
        "        \n",
        "            n = int(np.round(max_len * percentage))\n",
        "            \n",
        "            for s in n*[bit]:\n",
        "                scaled_x.append(s)\n",
        "  \n",
        "        if len(scaled_x) == max_len:\n",
        "            scaled_data[index] = scaled_x\n",
        "\n",
        "        else:\n",
        "            # do padding before and after, to make length equal to max length of the data\n",
        "            difference = max_len - len(scaled_x)\n",
        "    \n",
        "            if difference > 0:\n",
        "  \n",
        "                pad_before = difference // 2\n",
        "                pad_after = (difference // 2) + (difference % 2)\n",
        "\n",
        "                scaled_x = pad_before * [scaled_x[0]] + scaled_x + pad_after * [scaled_x[-1]]\n",
        "\n",
        "                if len(scaled_x) == max_len:\n",
        "                    scaled_data[index] = scaled_x\n",
        "\n",
        "                else:  \n",
        "                    raise Exception(\"Length of scaled list not equal to max length of the data\") \n",
        "                \n",
        "            elif difference < 0: \n",
        "                \n",
        "                diff = abs(difference)\n",
        "                remove_before = diff // 2\n",
        "                remove_after = (diff // 2) + (diff % 2)\n",
        "\n",
        "                scaled_x = scaled_x[remove_before:len(scaled_x)-remove_after]\n",
        "\n",
        "                if len(scaled_x) == max_len:\n",
        "                    scaled_data[index] = scaled_x\n",
        "\n",
        "                else:\n",
        "                    raise Exception(\"Length of scaled list not equal to max length of the data\") \n",
        "             \n",
        "    return scaled_data"
      ],
      "execution_count": 19,
      "outputs": []
    },
    {
      "cell_type": "markdown",
      "metadata": {
        "id": "WWnucCiZAKvB"
      },
      "source": [
        "## 6 Results"
      ]
    },
    {
      "cell_type": "markdown",
      "metadata": {
        "id": "8soXDda33ffh"
      },
      "source": [
        "### 6.1 Metrics\n",
        "First we download the validation set used to calculate the validation metrics. For validation of the Neighbourhood-based Method, the full labeled .csv-files were downloaded.\n"
      ]
    },
    {
      "cell_type": "code",
      "metadata": {
        "id": "LHn3fBay-FwX",
        "colab": {
          "base_uri": "https://localhost:8080/"
        },
        "outputId": "b994cf6f-b711-48df-a576-47178d259d87"
      },
      "source": [
        "# load validation set for lexicon-based, Word2Vec + K-means + TD-IDF and BERT methods\n",
        "urllib.request.urlretrieve('https://drive.google.com/uc?id=1Xf3LGvIBYA7YqUFy473qowk4V4MT3t4g&export=download', 'validation_set.csv')\n",
        "val_df = pd.read_csv('validation_set.csv', sep='\\t')\n",
        "val_df['sentiment_score'].value_counts()"
      ],
      "execution_count": 20,
      "outputs": [
        {
          "output_type": "execute_result",
          "data": {
            "text/plain": [
              "1.0    887\n",
              "0.0    405\n",
              "Name: sentiment_score, dtype: int64"
            ]
          },
          "metadata": {
            "tags": []
          },
          "execution_count": 20
        }
      ]
    },
    {
      "cell_type": "code",
      "metadata": {
        "id": "59hgFG6Qb5v7",
        "colab": {
          "base_uri": "https://localhost:8080/"
        },
        "outputId": "599fd984-00e8-45a2-8c2c-921070f3ff89"
      },
      "source": [
        "# Load validation set for neighbourhood-based method\n",
        "gdown.download('https://drive.google.com/uc?id=1aqE8yS7Lf8GfljmFEuW5pd3i5S2raW1B', 'separate_csv_files.zip', quiet=False)\n",
        "with zipfile.ZipFile('separate_csv_files.zip', 'r') as zip_ref:\n",
        "    zip_ref.extractall('')"
      ],
      "execution_count": 21,
      "outputs": [
        {
          "output_type": "stream",
          "text": [
            "Downloading...\n",
            "From: https://drive.google.com/uc?id=1aqE8yS7Lf8GfljmFEuW5pd3i5S2raW1B\n",
            "To: /content/separate_csv_files.zip\n",
            "100%|██████████| 671k/671k [00:00<00:00, 94.7MB/s]\n"
          ],
          "name": "stderr"
        }
      ]
    },
    {
      "cell_type": "markdown",
      "metadata": {
        "id": "DnxqXfNe6F9l"
      },
      "source": [
        "#### 6.1.1 Lexicon based method\n",
        "\n",
        "The SentiWordNet approach achieved a total accuracy of 68%, along with a decent recall on positive labels. However, it performed bad in terms of recall and precision on negative labels.\n",
        "\n"
      ]
    },
    {
      "cell_type": "code",
      "metadata": {
        "id": "EpL_69s6BEb3",
        "colab": {
          "base_uri": "https://localhost:8080/"
        },
        "outputId": "01510c96-9a68-400f-d4c0-5591a85526a3"
      },
      "source": [
        "# calculate metrics for SentiWordNet method\n",
        "target_labels = val_df['sentiment_score'].values\n",
        "predicted_labels = []\n",
        "for sample in tqdm(val_df['text']):\n",
        "    predicted_sentiment = SentiWordNet_sentiment(sample)\n",
        "    predicted_labels.append(predicted_sentiment)\n",
        "\n",
        "predicted_labels = np.array(predicted_labels)  \n",
        "print\n",
        "print('\\n\\n', classification_report(target_labels, predicted_labels))"
      ],
      "execution_count": 22,
      "outputs": [
        {
          "output_type": "stream",
          "text": [
            "100%|██████████| 1292/1292 [00:11<00:00, 111.53it/s]"
          ],
          "name": "stderr"
        },
        {
          "output_type": "stream",
          "text": [
            "\n",
            "\n",
            "               precision    recall  f1-score   support\n",
            "\n",
            "         0.0       0.48      0.42      0.45       405\n",
            "         1.0       0.75      0.80      0.77       887\n",
            "\n",
            "    accuracy                           0.68      1292\n",
            "   macro avg       0.62      0.61      0.61      1292\n",
            "weighted avg       0.67      0.68      0.67      1292\n",
            "\n"
          ],
          "name": "stdout"
        },
        {
          "output_type": "stream",
          "text": [
            "\n"
          ],
          "name": "stderr"
        }
      ]
    },
    {
      "cell_type": "markdown",
      "metadata": {
        "id": "9EOxtyAc-1Hj"
      },
      "source": [
        "The VADER sentiment classifier achieved better performance in terms of accuracy and F1-score (73% and 83% respectively) on positive labels than the SentiWordNet approach. However, VADER performed much worse in terms of recall on negative labels, only 26%.\n"
      ]
    },
    {
      "cell_type": "code",
      "metadata": {
        "id": "G6cpac1QBE_V",
        "colab": {
          "base_uri": "https://localhost:8080/"
        },
        "outputId": "a7a095d2-171b-4894-f424-a0396e8b57b8"
      },
      "source": [
        "predicted_labels = []\n",
        "for sample in tqdm(val_df['text']):\n",
        "    predicted_sentiment = VADER_sentiment(sample)\n",
        "    predicted_labels.append(predicted_sentiment)\n",
        "\n",
        "predicted_labels = np.array(predicted_labels)  \n",
        "print('\\n\\n', classification_report(target_labels, predicted_labels))"
      ],
      "execution_count": 23,
      "outputs": [
        {
          "output_type": "stream",
          "text": [
            "100%|██████████| 1292/1292 [00:14<00:00, 92.07it/s] "
          ],
          "name": "stderr"
        },
        {
          "output_type": "stream",
          "text": [
            "\n",
            "\n",
            "               precision    recall  f1-score   support\n",
            "\n",
            "         0.0       0.68      0.26      0.38       405\n",
            "         1.0       0.74      0.94      0.83       887\n",
            "\n",
            "    accuracy                           0.73      1292\n",
            "   macro avg       0.71      0.60      0.60      1292\n",
            "weighted avg       0.72      0.73      0.69      1292\n",
            "\n"
          ],
          "name": "stdout"
        },
        {
          "output_type": "stream",
          "text": [
            "\n"
          ],
          "name": "stderr"
        }
      ]
    },
    {
      "cell_type": "markdown",
      "metadata": {
        "id": "DTihwQmh57Jl"
      },
      "source": [
        "#### 6.1.2 Neighbourhood-based Method\n",
        "\n",
        "To test the performance of the Neighbourhood-based Method, it was important to first find the most optimal parameter values for the NEAR value and the lists of positive and negative words that should be looked for. To do this, the following performance testing and parameter optimization functions were used:\n",
        "\n",
        "\n"
      ]
    },
    {
      "cell_type": "code",
      "metadata": {
        "id": "1sFRoUg-diLx"
      },
      "source": [
        "# Returns a classification report that shows the performance of the predicted sentiment scores\n",
        "# when compared to the actual sentiment scores. Takes n randomly chosen podcast episodes with at\n",
        "# least min_len utterances from a folder with labeled csvs, or all of them if n is too large\n",
        "# and outputs the classification report.\n",
        "\n",
        "def compare_scores(labeled_folder, NEAR, pos_words, neg_words, n, min_len, output_dict):\n",
        "    # Hides warnings\n",
        "    pd.options.mode.chained_assignment = None\n",
        "    \n",
        "    # Gets all file names within the folder\n",
        "    filenames = [f for f in listdir(labeled_folder) if isfile(join(labeled_folder, f))]\n",
        "    np.random.shuffle(filenames)\n",
        "    dfs = []\n",
        "    c = 0\n",
        "    # Looks for up to n podcast episodes with at least min_len utterances\n",
        "    for filename in filenames:\n",
        "        df = pd.read_csv(labeled_folder + '/' + filename, sep='\\t')\n",
        "        if len(df) >= min_len:\n",
        "            dfs.append(df)\n",
        "            c += 1\n",
        "            if c == n:\n",
        "                break\n",
        "        \n",
        "    # Returns the classification report for the performance of the classification of the \n",
        "    # sentiments.\n",
        "    if len(dfs) == 1:\n",
        "        df = add_scores(df, NEAR, pos_words, neg_words)\n",
        "        return classification_report(list(df.sentiment_score.values), \n",
        "                                       list(df.predicted_score.values), zero_division=0, \n",
        "                                     output_dict=output_dict)\n",
        "    total_scores = []\n",
        "    total_predicted = []\n",
        "    for df in dfs:\n",
        "        df = add_scores(df, NEAR, pos_words, neg_words)\n",
        "        total_scores += list(df.sentiment_score.values)\n",
        "        total_predicted += list(df.predicted_score.values)\n",
        "    return classification_report(total_scores, total_predicted, zero_division=0, \n",
        "                                 output_dict=output_dict)"
      ],
      "execution_count": 24,
      "outputs": []
    },
    {
      "cell_type": "code",
      "metadata": {
        "id": "U3Nt0exXdily"
      },
      "source": [
        "# Obtains the best performing NEAR value and samples of the positive and negative word lists\n",
        "# by randomly generating n parameter sets, doing a brief performance check on each, and then\n",
        "# more extensively testing those that initially performed well. Returns the most optimal \n",
        "# parameter set.\n",
        "\n",
        "def optimize_params(n, pos_words, neg_words):\n",
        "    best_params = []\n",
        "    best_accuracy = 0.0\n",
        "    good_params = []\n",
        "    \n",
        "    # Randomly generates NEAR value between 50 and 1000 and samples of the word lists\n",
        "    for i in range(n):\n",
        "        NEAR = np.random.randint(1, 20) * 50\n",
        "        sample_size = np.random.randint(len(pos_words) - 3, len(pos_words))\n",
        "        pos_sample = np.random.choice(pos_words, sample_size, replace=False)\n",
        "        neg_sample = np.random.choice(neg_words, sample_size, replace=False)\n",
        "        metrics = compare_scores('separate_csv_files', NEAR, \n",
        "                                       pos_sample, neg_sample, 1, 50, True)\n",
        "        # Parameter sets that predict both positive and negative sentiments and have decent\n",
        "        # metrics in this initial test are considered for more extensive testing\n",
        "        if '0.0' in metrics.keys() and '1.0' in metrics.keys():\n",
        "            if metrics['accuracy'] > 0.6 and metrics['0.0']['recall'] > 0.45 and metrics['0.0']['recall'] > 0.45:\n",
        "                good_params.append((NEAR, pos_sample, neg_sample))\n",
        "                \n",
        "    # All well-performing sets are then tested 30 times each, with the set that has the best\n",
        "    #average accuracy then being returned\n",
        "    for params in good_params:\n",
        "        (NEAR, pos_sample, neg_sample) = params\n",
        "        accuracy = compare_scores('separate_csv_files', NEAR, \n",
        "                                   pos_sample, neg_sample, 30, 50, True)['accuracy']\n",
        "        if accuracy > best_accuracy:\n",
        "            best_accuracy = np.mean(accuracies)\n",
        "            best_params = (NEAR, pos_sample, neg_sample)\n",
        "    return best_params, best_accuracy"
      ],
      "execution_count": 25,
      "outputs": []
    },
    {
      "cell_type": "markdown",
      "metadata": {
        "id": "_2gS7SrmdndD"
      },
      "source": [
        "This was ran 2000 times, each time generating a random value between 50 and 1000 in steps of 50 for the NEAR value and taking a random sample of the positive and negative words, leaving out up to 3 of each list. From this, it was found that the most optimal parameters were a NEAR value of 350 and the following word lists:\n",
        "\n",
        "\\begin{equation}\n",
        "\\text{Positive Words} = \\text{['yes', 'yeah', 'love', 'easy', 'great', 'nice',\n",
        "                     'happy', 'awesome','thanks', 'thank']} \\\\\n",
        "\\text{Negative Words} = \\text{['little', 'wrong', 'hard', 'stupid', 'horrible',\n",
        "                     'shit', 'sad', 'sorry', 'no', 'tough']} \\\\\n",
        "\\end{equation}\n",
        "\n",
        "Using these parameters in the compare_scores function on 5 randomly selected labeled podcast episodes in the validation set with at least 150 utterances each lead to the following classification report:"
      ]
    },
    {
      "cell_type": "code",
      "metadata": {
        "id": "p0MShG4d7Qfe",
        "colab": {
          "base_uri": "https://localhost:8080/"
        },
        "outputId": "25467b5e-f7ca-430b-c69e-a675c23747d7"
      },
      "source": [
        "optimized_params = (350, \n",
        "                    ['yes', 'yeah', 'love', 'easy', 'great', 'nice',\n",
        "                     'happy', 'awesome','thanks', 'thank'], \n",
        "                    ['little', 'wrong', 'hard', 'stupid', 'horrible',\n",
        "                     'shit', 'sad', 'sorry', 'no', 'tough'])\n",
        "\n",
        "\n",
        "print(compare_scores('separate_csv_files', optimized_params[0], optimized_params[1],\n",
        "               optimized_params[2], 5, 150, False))"
      ],
      "execution_count": 26,
      "outputs": [
        {
          "output_type": "stream",
          "text": [
            "              precision    recall  f1-score   support\n",
            "\n",
            "         0.0       0.35      0.49      0.41       356\n",
            "         1.0       0.66      0.52      0.59       678\n",
            "\n",
            "    accuracy                           0.51      1034\n",
            "   macro avg       0.51      0.51      0.50      1034\n",
            "weighted avg       0.56      0.51      0.53      1034\n",
            "\n"
          ],
          "name": "stdout"
        }
      ]
    },
    {
      "cell_type": "markdown",
      "metadata": {
        "id": "qrRTsr6aCZ31"
      },
      "source": [
        "#### 6.1.3 Unsupervised Sentiment Prediction Using Word2Vec, K-means, and TF-IDF\r\n",
        "For the results, the validation set is first cleaned."
      ]
    },
    {
      "cell_type": "code",
      "metadata": {
        "id": "O1eyliqGbZIp"
      },
      "source": [
        "df_val = clean_data(val_df)"
      ],
      "execution_count": 27,
      "outputs": []
    },
    {
      "cell_type": "markdown",
      "metadata": {
        "id": "G35cn2UtbOdy"
      },
      "source": [
        "In order to counteract things such as stopwords, the TF-IDF values of every sequence are calculated and inserted into a dataframe."
      ]
    },
    {
      "cell_type": "code",
      "metadata": {
        "id": "4NsBHH9tbQqC",
        "colab": {
          "base_uri": "https://localhost:8080/"
        },
        "outputId": "f1600c06-6a13-41e1-9a4a-ec6483e24766"
      },
      "source": [
        "# Vectorize the sequences\r\n",
        "tfidf = TfidfVectorizer(tokenizer=lambda y: y.split(), norm=None)\r\n",
        "tfidf.fit(df_val['text'])\r\n",
        "\r\n",
        "# Get the names of each feature\r\n",
        "features = pd.Series(tfidf.get_feature_names())\r\n",
        "\r\n",
        "# Transform the text into their respective TF-IDF values\r\n",
        "transformed = tfidf.transform(df_val['text'])"
      ],
      "execution_count": 28,
      "outputs": [
        {
          "output_type": "stream",
          "text": [
            "/usr/local/lib/python3.7/dist-packages/sklearn/feature_extraction/text.py:507: UserWarning: The parameter 'token_pattern' will not be used since 'tokenizer' is not None'\n",
            "  warnings.warn(\"The parameter 'token_pattern' will not be used\"\n"
          ],
          "name": "stderr"
        }
      ]
    },
    {
      "cell_type": "markdown",
      "metadata": {
        "id": "jGga4_BbrVpf"
      },
      "source": [
        "After obtaining the TF-IDF values, the final step is to calculate the predicted label by taking the dot product of the TF-IDF values and the sentiment coefficients of each sentence.  "
      ]
    },
    {
      "cell_type": "code",
      "metadata": {
        "id": "ztCRBoS7amrC"
      },
      "source": [
        "metrics_df, sentiment_dict = create_df_dict()\r\n",
        "\r\n",
        "# Create a dictionary of every word and its corresponding TF-IDF value\r\n",
        "def create_tfidf_dictionary(x, transformed_file, features):\r\n",
        "    vector_coo = transformed_file[x.name].tocoo()\r\n",
        "    vector_coo.col = features.iloc[vector_coo.col].values\r\n",
        "    return dict(zip(vector_coo.col, vector_coo.data))\r\n",
        "\r\n",
        "def replace_tfidf_words(x, transformed_file, features):\r\n",
        "    dictionary = create_tfidf_dictionary(x, transformed_file, features)   \r\n",
        "    return list(map(lambda y:dictionary[f'{y}'], x['text'].split()))\r\n",
        "\r\n",
        "# Replaces a word with its respective sentiment value\r\n",
        "def replace_sentiment_words(word, sentiment_dict):\r\n",
        "    try:\r\n",
        "        return sentiment_dict[word]\r\n",
        "    except KeyError:\r\n",
        "        return 0\r\n",
        "\r\n",
        "replaced_tfidf_scores = df_val.apply(lambda x: replace_tfidf_words(x, transformed, features), axis=1)\r\n",
        "replaced_closeness_scores = df_val['text'].apply(lambda x: list(map(lambda y: replace_sentiment_words(y, sentiment_dict), x.split())))\r\n",
        "\r\n",
        "# Create new dataframe for final calculations\r\n",
        "df_kmeans = pd.DataFrame(data=[replaced_closeness_scores, replaced_tfidf_scores, df_val['text'], df_val['sentiment_score']]).T\r\n",
        "df_kmeans.columns = ['sentiment_coeff', 'tfidf_scores', 'sentence', 'sentiment_score']\r\n",
        "\r\n",
        "# Take the dot product to determine if a segment is mostly positive or mostly negative\r\n",
        "df_kmeans['prediction'] = df_kmeans.apply(lambda x: np.array(x.loc['sentiment_coeff']) @ np.array(x.loc['tfidf_scores']), axis=1)"
      ],
      "execution_count": 29,
      "outputs": []
    },
    {
      "cell_type": "markdown",
      "metadata": {
        "id": "d_iK__lNsLc5"
      },
      "source": [
        "Finally, the prediction can be made by labeling everything according to the condition outlined in section 2."
      ]
    },
    {
      "cell_type": "code",
      "metadata": {
        "id": "yGGJWPmwCaSa",
        "colab": {
          "base_uri": "https://localhost:8080/"
        },
        "outputId": "2bb8ad7c-4409-41dd-ee4f-357210147a80"
      },
      "source": [
        "# Predict the label and convert to the same datatype\r\n",
        "df_kmeans['prediction'] = (df_kmeans['prediction']>=0).astype('int8')\r\n",
        "df_kmeans['sentiment_score'] = df_kmeans['sentiment_score'].astype('int8')\r\n",
        "\r\n",
        "y_true_kmeans = df_kmeans['sentiment_score']\r\n",
        "y_pred_kmeans = df_kmeans['prediction']\r\n",
        "\r\n",
        "# Display the final scores\r\n",
        "print('Confusion Matrix\\n',confusion_matrix(y_true_kmeans,y_pred_kmeans))\r\n",
        "print(classification_report(y_true_kmeans, y_pred_kmeans))"
      ],
      "execution_count": 30,
      "outputs": [
        {
          "output_type": "stream",
          "text": [
            "Confusion Matrix\n",
            " [[172 233]\n",
            " [449 438]]\n",
            "              precision    recall  f1-score   support\n",
            "\n",
            "           0       0.28      0.42      0.34       405\n",
            "           1       0.65      0.49      0.56       887\n",
            "\n",
            "    accuracy                           0.47      1292\n",
            "   macro avg       0.46      0.46      0.45      1292\n",
            "weighted avg       0.53      0.47      0.49      1292\n",
            "\n"
          ],
          "name": "stdout"
        }
      ]
    },
    {
      "cell_type": "markdown",
      "metadata": {
        "id": "oInoMkiY_bKr"
      },
      "source": [
        "#### 6.1.4 DistilBERT Classifier\n",
        "\n",
        "Below the code for evaluating the DistilBERT sentiment classifier can be executed.\n"
      ]
    },
    {
      "cell_type": "code",
      "metadata": {
        "id": "oCcO8m7plTzY",
        "colab": {
          "base_uri": "https://localhost:8080/",
          "height": 103
        },
        "outputId": "bb041959-7812-49bb-e002-b1936dd72ede"
      },
      "source": [
        "# safely download best saved model from Google Drive\n",
        "import gdown\n",
        "url = 'https://drive.google.com/uc?id=1bYN56DXNp_TZHuA0-K4hER_PLddSaLZL'\n",
        "output = 'DistilBERT_best_model.pt'\n",
        "gdown.download(url, output, quiet=False)"
      ],
      "execution_count": 31,
      "outputs": [
        {
          "output_type": "stream",
          "text": [
            "Downloading...\n",
            "From: https://drive.google.com/uc?id=1bYN56DXNp_TZHuA0-K4hER_PLddSaLZL\n",
            "To: /content/DistilBERT_best_model.pt\n",
            "268MB [00:01, 226MB/s]\n"
          ],
          "name": "stderr"
        },
        {
          "output_type": "execute_result",
          "data": {
            "application/vnd.google.colaboratory.intrinsic+json": {
              "type": "string"
            },
            "text/plain": [
              "'DistilBERT_best_model.pt'"
            ]
          },
          "metadata": {
            "tags": []
          },
          "execution_count": 31
        }
      ]
    },
    {
      "cell_type": "code",
      "metadata": {
        "id": "ENPqvtzxGgY_"
      },
      "source": [
        "%%capture\n",
        "# get pretrained DistilBERT model from Transformers library\n",
        "model = DistilBertForSequenceClassification.from_pretrained('distilbert-base-uncased',num_labels=1).to(device)\n",
        "tokenizer = DistilBertTokenizer.from_pretrained('distilbert-base-uncased')\n",
        "\n",
        "# Load best trained model weights, see BERT_training.ipynb in the github for the training script\n",
        "model.load_state_dict(torch.load('DistilBERT_best_model.pt', map_location=device))\n",
        "model.eval()"
      ],
      "execution_count": 32,
      "outputs": []
    },
    {
      "cell_type": "code",
      "metadata": {
        "id": "WuEAUFqOmg4l"
      },
      "source": [
        "# Tokenize validation data\n",
        "tokenized_utterances_val = val_df.text.apply(lambda x: tokenizer.encode(x,add_special_tokens=True))\n",
        "\n",
        "# Make sure length of utterances are not greater than 512\n",
        "for index, utt in enumerate(tokenized_utterances_val):\n",
        "    if len(utt) > 512:\n",
        "      tokenized_utterances_val[index] = utt[:512]\n",
        "\n",
        "# Pad utterances for validation set\n",
        "max_len = max(map(len,tokenized_utterances_val))\n",
        "padded_utterances_val = np.array([ i+[0]*(max_len-len(i))  for i in tokenized_utterances_val])\n",
        "attention_masked_utterances_val = np.where(padded_utterances_val != 0,1,0)\n",
        "\n",
        "# Create tensors\n",
        "X_val = torch.tensor(padded_utterances_val, device=device)\n",
        "X_val_attention = torch.tensor(attention_masked_utterances_val, device=device)\n",
        "y_val = torch.tensor(np.array(val_df.sentiment_score.values)[:,np.newaxis], dtype=torch.float32)\n",
        "\n",
        "val_dataset = TensorDataset(X_val, X_val_attention)\n",
        "val_loader = DataLoader(val_dataset, batch_size=16, shuffle=False)"
      ],
      "execution_count": 33,
      "outputs": []
    },
    {
      "cell_type": "code",
      "metadata": {
        "id": "qrSnSWtqWaIr"
      },
      "source": [
        "def sigmoid(x):\n",
        "  \"\"\"\n",
        "  Returns the sigmoid value of x\n",
        "  \"\"\"\n",
        "  return 1 / (1 + np.exp(-x)) "
      ],
      "execution_count": 34,
      "outputs": []
    },
    {
      "cell_type": "code",
      "metadata": {
        "id": "sIllGnYXqJCP",
        "colab": {
          "base_uri": "https://localhost:8080/"
        },
        "outputId": "570959c5-cd6d-4eb8-90e3-346fa925c628"
      },
      "source": [
        "# evaluate loaded model on validation set\n",
        "preds = np.zeros([len(val_dataset), 1])\n",
        "model.eval()\n",
        "for i, (x_batch, x_mask) in enumerate(val_loader):\n",
        "  outputs = model(x_batch.to(device),attention_mask=x_mask.to(device))\n",
        "  y_pred = sigmoid(outputs[0].detach().cpu().numpy())\n",
        "  preds[i*16:(i+1)*16, :] = y_pred\n",
        "\n",
        "print('ROC-AUC score:', metrics.roc_auc_score(y_val, preds))\n",
        "print()\n",
        "\n",
        "pred_labels = []\n",
        "for p in preds:\n",
        "  if p > 0.5:\n",
        "    pred_labels.append(1)\n",
        "  else:\n",
        "    pred_labels.append(0)\n",
        "y_target = list([int(x) for x in y_val])\n",
        "\n",
        "print(metrics.classification_report(y_target, pred_labels))"
      ],
      "execution_count": 35,
      "outputs": [
        {
          "output_type": "stream",
          "text": [
            "ROC-AUC score: 0.8582404275752641\n",
            "\n",
            "              precision    recall  f1-score   support\n",
            "\n",
            "           0       0.71      0.60      0.65       405\n",
            "           1       0.83      0.89      0.86       887\n",
            "\n",
            "    accuracy                           0.80      1292\n",
            "   macro avg       0.77      0.74      0.75      1292\n",
            "weighted avg       0.79      0.80      0.79      1292\n",
            "\n"
          ],
          "name": "stdout"
        }
      ]
    },
    {
      "cell_type": "markdown",
      "metadata": {
        "id": "M8QL3Be0wdhu"
      },
      "source": [
        "The performance of the DistilBERT sentiment classifier is good in terms of accuracy (80%). The ROC-AUC score, a measure for the ability of a classifier model to distinguish between classes, is 85.6%. \n",
        "\n",
        "The model also seems to perform well with a precision of 71% and 83% for negative labels and positive labels respectively.\n",
        "However, although the recall of positive labels is high with 89%, the recall of negative labels is mediocre with only 60&. This results in a lower F1-score for negative labels. Overall, this method performed the best in the sentiment prediction task."
      ]
    },
    {
      "cell_type": "markdown",
      "metadata": {
        "id": "wR0yG3KX-5KJ"
      },
      "source": [
        "As can be seen in this section, the DistilBERT classifier achieved the best results and will be used to analyze the sentiment on the dataset containing more than 35,000 dialogues with more than 3,000,000 utterances. "
      ]
    },
    {
      "cell_type": "markdown",
      "metadata": {
        "id": "60VmpyZg3hCn"
      },
      "source": [
        "### 6.2 Sentiment Analysis"
      ]
    },
    {
      "cell_type": "code",
      "metadata": {
        "id": "rGYq9YU44but",
        "colab": {
          "base_uri": "https://localhost:8080/"
        },
        "outputId": "a3f916d4-8935-4b6e-dee9-421ea8bc9545"
      },
      "source": [
        "# download result files from Google Drive\n",
        "urllib.request.urlretrieve('https://drive.google.com/uc?id=12b9wEATIfEaNwXC5sTyC8u4VTAT_6di3&export=download', 'results_p1.txt')\n",
        "urllib.request.urlretrieve('https://drive.google.com/uc?id=1oUhIiDgaGvxHZZeVQc2EsdlnF_D8EQF-&export=download', 'results_p2.txt')\n",
        "\n",
        "# open files with pickle\n",
        "with open('results_p1.txt', \"rb\") as fp:   # Unpickling\n",
        "    data_p1 = pickle.load(fp)\n",
        "with open(\"results_p2.txt\", \"rb\") as fp:   # Unpickling\n",
        "    data_p2 = pickle.load(fp)\n",
        "        \n",
        "# merge data and show first stats\n",
        "data = data_p1 + data_p2 \n",
        "total_utt = sum(len(x) for x in data)\n",
        "print('Number of dialogues:', len(data))\n",
        "print('Number of utterances:', total_utt)"
      ],
      "execution_count": 36,
      "outputs": [
        {
          "output_type": "stream",
          "text": [
            "Number of dialogues: 36318\n",
            "Number of utterances: 3010296\n"
          ],
          "name": "stdout"
        }
      ]
    },
    {
      "cell_type": "markdown",
      "metadata": {
        "id": "Y3P8e98z15hs"
      },
      "source": [
        "#### 6.2.1 Sentiment Statistics in podcasts in general\n",
        "\n"
      ]
    },
    {
      "cell_type": "markdown",
      "metadata": {
        "id": "hLXIVHv68UTp"
      },
      "source": [
        "Below you can see the number and percentage of negative and positive labeled podcast episodes. As you can see, there exists much more positive podcast episodes than negative ones."
      ]
    },
    {
      "cell_type": "code",
      "metadata": {
        "id": "prTuE6bp8PrZ",
        "colab": {
          "base_uri": "https://localhost:8080/",
          "height": 301
        },
        "outputId": "122ace26-a09b-4fed-87b7-90dc1c4d2cf9"
      },
      "source": [
        "# get total sentiment of dialogues (positive or negative)\n",
        "def dialogue_sentiments(sentiment_data):\n",
        "    sentiments = []\n",
        "    for d in sentiment_data:\n",
        "        try:\n",
        "            sentiments.append(mode(d))\n",
        "        except:\n",
        "            # in case of equal counts, choose negative\n",
        "            sentiments.append(0)\n",
        "    return sentiments  \n",
        "sents = dialogue_sentiments(data) \n",
        "\n",
        "# calculate total counts for positive and negative podcasts\n",
        "pos_count = sents.count(1)\n",
        "neg_count = sents.count(0)\n",
        "print('Total positive podcast episodes:', pos_count)\n",
        "print('Total negative podcast episodes:', neg_count)\n",
        "\n",
        "\n",
        "# plot pie chart\n",
        "labels = 'Positive', 'Negative'\n",
        "myColors = ((0.467, 0.867, 0.467, 1.0), (1.0, 0.412, 0.38, 1.0))\n",
        "sizes = [pos_count, neg_count]\n",
        "fig1, ax1 = plt.subplots()\n",
        "ax1.pie(sizes, labels=labels, explode=[0.1, 0.1], autopct='%1.1f%%',\n",
        "        shadow=False, startangle=90, colors = myColors)\n",
        "ax1.axis('equal')\n",
        "plt.title('Positive vs negative podcast dialogues')\n",
        "plt.show()"
      ],
      "execution_count": 37,
      "outputs": [
        {
          "output_type": "stream",
          "text": [
            "Total positive podcast episodes: 34764\n",
            "Total negative podcast episodes: 1554\n"
          ],
          "name": "stdout"
        },
        {
          "output_type": "display_data",
          "data": {
            "image/png": "[encoded data removed]",
            "text/plain": [
              "<Figure size 432x288 with 1 Axes>"
            ]
          },
          "metadata": {
            "tags": []
          }
        }
      ]
    },
    {
      "cell_type": "markdown",
      "metadata": {
        "id": "oBHhlXq767Us"
      },
      "source": [
        "Below you can see the number and percentage of negative and positive labeled podcast dialogue utterances. As you can see, there exists much more positive utterances than negative ones."
      ]
    },
    {
      "cell_type": "code",
      "metadata": {
        "id": "oeGaTIPy1gP3",
        "colab": {
          "base_uri": "https://localhost:8080/",
          "height": 298
        },
        "outputId": "ac9974ec-ce0f-4b1d-f3e0-6c3620faf2be"
      },
      "source": [
        "pos_utt_count = [item for sublist in data for item in sublist].count(1)\n",
        "neg_utt_count = [item for sublist in data for item in sublist].count(0)\n",
        "\n",
        "print('Total positive utterannces:', pos_utt_count)\n",
        "print('Total negative utterances:', neg_utt_count)\n",
        "\n",
        "# plot pie chart\n",
        "labels = 'Positive', 'Negative'\n",
        "myColors = ((0.467, 0.867, 0.467, 1.0), (1.0, 0.412, 0.38, 1.0))\n",
        "sizes = [pos_utt_count, neg_utt_count]\n",
        "fig1, ax1 = plt.subplots()\n",
        "ax1.pie(sizes, labels=labels, explode=[0.05, 0.05], autopct='%1.1f%%',\n",
        "        shadow=False, startangle=90, colors = myColors)\n",
        "ax1.axis('equal')\n",
        "plt.title('Positive vs negative podcast dialogue utterances')\n",
        "plt.show()"
      ],
      "execution_count": 38,
      "outputs": [
        {
          "output_type": "stream",
          "text": [
            "Total positive utterannces: 2201976\n",
            "Total negative utterances: 808320\n"
          ],
          "name": "stdout"
        },
        {
          "output_type": "display_data",
          "data": {
            "image/png": "[encoded data removed]",
            "text/plain": [
              "<Figure size 432x288 with 1 Axes>"
            ]
          },
          "metadata": {
            "tags": []
          }
        }
      ]
    },
    {
      "cell_type": "markdown",
      "metadata": {
        "id": "vqe8iPjWBOAl"
      },
      "source": [
        "The longest negative and postive chain of utterances within a podcast dialogue is shown in the code below."
      ]
    },
    {
      "cell_type": "code",
      "metadata": {
        "id": "cJevmN0FBJLK",
        "colab": {
          "base_uri": "https://localhost:8080/"
        },
        "outputId": "508fca58-9755-4cdd-9402-75a3e2ce301a"
      },
      "source": [
        "# get length of longest sequence of positive utterances and longest sequence of negative utterances of a dialogue\n",
        "def longest_sequence(sentiment_data, sentiment):\n",
        "    longest = []\n",
        "    for d in sentiment_data:\n",
        "        c, max_val = 0, 0\n",
        "        for s in d: \n",
        "            # add to or reset running count\n",
        "            c = c + 1 if s == sentiment else 0 \n",
        "\n",
        "            max_val = max([c, max_val]) \n",
        "        longest.append(max_val)\n",
        "\n",
        "    return longest  \n",
        "\n",
        "longest_pos = max(longest_sequence(data, 1))\n",
        "longest_neg = max(longest_sequence(data, 0))\n",
        "print('Longest positive sequence of utterances in a podcast dialogue:', longest_pos)\n",
        "print('Visualization:', colored(longest_pos * '+', 'green'))\n",
        "print('Longest negative sequence of utterances in a podcast dialogue:', longest_neg)\n",
        "print('Visualization:', colored(longest_neg * '-', 'red'))"
      ],
      "execution_count": 39,
      "outputs": [
        {
          "output_type": "stream",
          "text": [
            "Longest positive sequence of utterances in a podcast dialogue: 116\n",
            "Visualization: \u001b[32m++++++++++++++++++++++++++++++++++++++++++++++++++++++++++++++++++++++++++++++++++++++++++++++++++++++++++++++++++++\u001b[0m\n",
            "Longest negative sequence of utterances in a podcast dialogue: 32\n",
            "Visualization: \u001b[31m--------------------------------\u001b[0m\n"
          ],
          "name": "stdout"
        }
      ]
    },
    {
      "cell_type": "markdown",
      "metadata": {
        "id": "jyMWmfcq9xOG"
      },
      "source": [
        "#### 6.2.2 Sentiment Patterns Found within Podcast Episodes\n",
        "\n",
        "Several patterns have been mined within dialogues. Below you can see how many times they occur."
      ]
    },
    {
      "cell_type": "code",
      "metadata": {
        "id": "RJ-yn0oA6cn3"
      },
      "source": [
        "# TODO: convert below function to measure percentages within dialogues (what are the most common pattern within a dialogue etc)"
      ],
      "execution_count": 40,
      "outputs": []
    },
    {
      "cell_type": "code",
      "metadata": {
        "id": "pztKO96x6FPx",
        "colab": {
          "base_uri": "https://localhost:8080/"
        },
        "outputId": "232a4da2-2859-4375-a41a-776bc7604572"
      },
      "source": [
        "# pattern example: +++ = [1, 1, 1], +-+ = [1, 0, 1]\n",
        "patterns = [[1, 1, 1], [0, 0, 0], [1, 0, 1], [0, 1, 0], [1, 0], [0, 1]]\n",
        "# Count sentiment patterns within podcasts\n",
        "def pattern_occurences(sentiment_data, pattern):\n",
        "  p_counts = []\n",
        "  for d in sentiment_data:\n",
        "      c = sum(1 for i in range(len(d)) if d[i:i+len(pattern)]==pattern)\n",
        "      p_counts.append(c)\n",
        "  return p_counts\n",
        "\n",
        "# function to convert bitstring list to a pos/neg string\n",
        "def sent_list_to_string(l):\n",
        "  new_l = []\n",
        "  for item in l:\n",
        "    if item == 0:\n",
        "      new_l.append('-')\n",
        "    else:\n",
        "      new_l.append('+')\n",
        "  return ''.join(new_l) \n",
        "\n",
        "for pattern in patterns:\n",
        "  pattern_occ = pattern_occurences(data, pattern)   \n",
        "  print('Total amounts of pattern {} in podcast episodes: '.format(sent_list_to_string(pattern)), sum(pattern_occ))"
      ],
      "execution_count": 41,
      "outputs": [
        {
          "output_type": "stream",
          "text": [
            "Total amounts of pattern +++ in podcast episodes:  1295896\n",
            "Total amounts of pattern --- in podcast episodes:  134829\n",
            "Total amounts of pattern +-+ in podcast episodes:  328577\n",
            "Total amounts of pattern -+- in podcast episodes:  155487\n",
            "Total amounts of pattern +- in podcast episodes:  500643\n",
            "Total amounts of pattern -+ in podcast episodes:  500420\n"
          ],
          "name": "stdout"
        }
      ]
    },
    {
      "cell_type": "markdown",
      "metadata": {
        "id": "r5XSqmIFDY9p"
      },
      "source": [
        "Below you can see the gradient of the sentiment of several podcast episodes. The red marked areas represent negative talking, where the green areas represent positive talking. "
      ]
    },
    {
      "cell_type": "code",
      "metadata": {
        "id": "-M_7rseaEJy_",
        "colab": {
          "base_uri": "https://localhost:8080/",
          "height": 468
        },
        "outputId": "171f6af9-2a85-4f5d-887c-080beee2450d"
      },
      "source": [
        "# show a sentimennt visualization of sample at index\n",
        "def sentiment_progress_visualize(sentiment_data, i):\n",
        "    x = sentiment_data[i]\n",
        "    fig, ax = plt.subplots(figsize=(20,0.25))\n",
        "    ax.set(xlabel=i, ylabel='Episode progress')\n",
        "    myColors = ((1.0, 0.412, 0.38, 1.0), (0.467, 0.867, 0.467, 1.0))\n",
        "    cmap = LinearSegmentedColormap.from_list('Custom', myColors, len(myColors))          \n",
        "    seaborn.heatmap([x], square=False, xticklabels=False, yticklabels=False ,cmap=cmap, cbar=False)\n",
        "    plt.xlabel('Dialogue duration ⟶')\n",
        "    plt.show()\n",
        "\n",
        "# visualize\n",
        "max_v = 10\n",
        "for i in range(len(data)):\n",
        "    sentiment_progress_visualize(data, i) \n",
        "    if i == max_v:\n",
        "        break"
      ],
      "execution_count": 42,
      "outputs": [
        {
          "output_type": "display_data",
          "data": {
            "image/png": "[encoded data removed]",
            "text/plain": [
              "<Figure size 1440x18 with 1 Axes>"
            ]
          },
          "metadata": {
            "tags": []
          }
        },
        {
          "output_type": "display_data",
          "data": {
            "image/png": "[encoded data removed]",
            "text/plain": [
              "<Figure size 1440x18 with 1 Axes>"
            ]
          },
          "metadata": {
            "tags": []
          }
        },
        {
          "output_type": "display_data",
          "data": {
            "image/png": "[encoded data removed]",
            "text/plain": [
              "<Figure size 1440x18 with 1 Axes>"
            ]
          },
          "metadata": {
            "tags": []
          }
        },
        {
          "output_type": "display_data",
          "data": {
            "image/png": "[encoded data removed]",
            "text/plain": [
              "<Figure size 1440x18 with 1 Axes>"
            ]
          },
          "metadata": {
            "tags": []
          }
        },
        {
          "output_type": "display_data",
          "data": {
            "image/png": "[encoded data removed]",
            "text/plain": [
              "<Figure size 1440x18 with 1 Axes>"
            ]
          },
          "metadata": {
            "tags": []
          }
        },
        {
          "output_type": "display_data",
          "data": {
            "image/png": "[encoded data removed]",
            "text/plain": [
              "<Figure size 1440x18 with 1 Axes>"
            ]
          },
          "metadata": {
            "tags": []
          }
        },
        {
          "output_type": "display_data",
          "data": {
            "image/png": "[encoded data removed]",
            "text/plain": [
              "<Figure size 1440x18 with 1 Axes>"
            ]
          },
          "metadata": {
            "tags": []
          }
        },
        {
          "output_type": "display_data",
          "data": {
            "image/png": "[encoded data removed]",
            "text/plain": [
              "<Figure size 1440x18 with 1 Axes>"
            ]
          },
          "metadata": {
            "tags": []
          }
        },
        {
          "output_type": "display_data",
          "data": {
            "image/png": "[encoded data removed]",
            "text/plain": [
              "<Figure size 1440x18 with 1 Axes>"
            ]
          },
          "metadata": {
            "tags": []
          }
        },
        {
          "output_type": "display_data",
          "data": {
            "image/png": "[encoded data removed]",
            "text/plain": [
              "<Figure size 1440x18 with 1 Axes>"
            ]
          },
          "metadata": {
            "tags": []
          }
        },
        {
          "output_type": "display_data",
          "data": {
            "image/png": "[encoded data removed]",
            "text/plain": [
              "<Figure size 1440x18 with 1 Axes>"
            ]
          },
          "metadata": {
            "tags": []
          }
        }
      ]
    },
    {
      "cell_type": "markdown",
      "metadata": {
        "id": "zzO51lx3GuEN"
      },
      "source": [
        "#### 6.2.3 Sentiment Patterns of Podcast Dialogues in General"
      ]
    },
    {
      "cell_type": "code",
      "metadata": {
        "id": "ibLmv-oh6WT0"
      },
      "source": [
        "# TODO: General patterns"
      ],
      "execution_count": 43,
      "outputs": []
    },
    {
      "cell_type": "markdown",
      "metadata": {
        "id": "IW1RnpkUKJ4_"
      },
      "source": [
        "Below you can see the aggregrated sentiment gradient for all podcast episodes in the dataset. Below the gradient, a graph is shown that show the gradient of the sentiment as well, where you can see that the start and end of the dialogue is positive, and most discussion and negative talks occur in the middle of the dialogue.\n",
        "\n",
        "First the data needs to be scaled using the function described in the Section 5.5.\n",
        "\n"
      ]
    },
    {
      "cell_type": "code",
      "metadata": {
        "id": "A-ZOJYkJ-LIs",
        "colab": {
          "base_uri": "https://localhost:8080/"
        },
        "outputId": "efd5f189-c2b6-472f-e622-6eea9c5e17f0"
      },
      "source": [
        "# scale data\n",
        "scaled_data = scale_data(data)\n",
        "\n",
        "# replace 0.0 values with -1.0\n",
        "scaled_data[scaled_data == 0.0] = -1.0\n",
        "print('\\nData successfully scaled!')"
      ],
      "execution_count": 44,
      "outputs": [
        {
          "output_type": "stream",
          "text": [
            "36318it [00:08, 4200.17it/s]\n"
          ],
          "name": "stderr"
        },
        {
          "output_type": "stream",
          "text": [
            "\n",
            "Data successfully scaled!\n"
          ],
          "name": "stdout"
        }
      ]
    },
    {
      "cell_type": "markdown",
      "metadata": {
        "id": "AF38fw-73c-o"
      },
      "source": [
        "Then, using the scaled data, the aggregrated sentiment gradient can be visualized below."
      ]
    },
    {
      "cell_type": "code",
      "metadata": {
        "id": "t7O-PcwAKbMz",
        "colab": {
          "base_uri": "https://localhost:8080/",
          "height": 468
        },
        "outputId": "67b6ba5f-ffdd-47e8-b4e9-955ed0bd1243"
      },
      "source": [
        "# total sentiment gradient \n",
        "summed_scaled_data = np.sum(scaled_data, axis=0)\n",
        "summed_scaled_data = summed_scaled_data / max(summed_scaled_data)\n",
        "\n",
        "fig, ax = plt.subplots(figsize=(20,2))\n",
        "sns = seaborn.heatmap([summed_scaled_data], cmap=\"RdYlGn\", square=False, vmin=0, vmax=1, xticklabels=False, yticklabels=False, cbar=True,  cbar_kws={'label': 'Normalized aggregrated sentiment'})\n",
        "plt.xlabel('Dialogue duration ⟶')\n",
        "plt.show()\n",
        "\n",
        "x = list(range(len(summed_scaled_data)))\n",
        "plt.plot(x, summed_scaled_data)\n",
        "plt.ylabel('Normalized aggregrated sentiment')\n",
        "plt.xlabel('Dialogue duration ⟶')\n",
        "plt.show()"
      ],
      "execution_count": 45,
      "outputs": [
        {
          "output_type": "display_data",
          "data": {
            "image/png": "[encoded data removed]",
            "text/plain": [
              "<Figure size 1440x144 with 2 Axes>"
            ]
          },
          "metadata": {
            "tags": [],
            "needs_background": "light"
          }
        },
        {
          "output_type": "display_data",
          "data": {
            "image/png": "[encoded data removed]",
            "text/plain": [
              "<Figure size 432x288 with 1 Axes>"
            ]
          },
          "metadata": {
            "tags": [],
            "needs_background": "light"
          }
        }
      ]
    },
    {
      "cell_type": "markdown",
      "metadata": {
        "id": "Xkc1CG8QAUE0"
      },
      "source": [
        "## 7 Findings\n",
        "\n",
        "\n"
      ]
    },
    {
      "cell_type": "markdown",
      "metadata": {
        "id": "QZgaK2yV7AXJ"
      },
      "source": [
        "### 7.1 Interpretation\n",
        "\n",
        "- TODO"
      ]
    },
    {
      "cell_type": "markdown",
      "metadata": {
        "id": "Cwka5f-f7DgR"
      },
      "source": [
        "### 7.2 Discussion\n",
        "The one area that could have been most improved upon during this research was the labeled dataset. Due to time constraints, each utterance within this dataset was labeled by only one of three persons. While many of the utterances had a very clear sentiment, there were also cases where it wasn’t very obvious if the sentiment was more positive or negative. Having all utterances labeled by three persons and then deciding by majority vote would have lead to more accurate labels.\n",
        "\n",
        "Also, while 3012 labeled utterances were certainly enough to make the BERT model learn a certain sense of sentiment in dialogue utterance, having a larger labeled dataset would probably have given better performance in the metrics, especially a better recall.\n",
        "\n",
        "As an improvement for the K-means method, improvements could include creating a system that automatically appoints the cluster index, and using pre-trained Word2Vec models, as the dataset that is currently being used does not have 100% accurate transcripts, leading to a lot of lost vocabulary."
      ]
    },
    {
      "cell_type": "markdown",
      "metadata": {
        "id": "DrhixITSAV-x"
      },
      "source": [
        "## 8 Conclusions"
      ]
    },
    {
      "cell_type": "markdown",
      "metadata": {
        "id": "uJtMAvlB_bSj"
      },
      "source": [
        "### 8.1 Summary\n",
        "- TODO: Samenvatting + conclusions (inclusief beantwoorden RQs)"
      ]
    },
    {
      "cell_type": "markdown",
      "metadata": {
        "id": "m1UzJQ8e_JT1"
      },
      "source": [
        "### 8.2 Future Work\n",
        "The performance of the used methods, especially those of the DistilBERT Classifier, show that it is certainly possible to reasonably accurately judge the sentiments of utterances within podcast transcripts. To expand on these findings, much more research in the field of sentiment analysis can be done.\n",
        "\n",
        "One suggestion for future research is to perform sentiment analysis on written texts other than podcast transcripts. While the Spotify Podcast Dataset contains a very large amount of different podcasts with wildly varying topics and speakers (and speaker styles), all transcripts that were used were still dialogues. Applying these methods to either monologues or texts with more than two speakers might give interesting results.\n",
        "\n",
        "Another idea for future research is applying sentiment analysis to speech rather than text. Obtaining a sentiment score using features such as pitch, volume and speech rate is a slightly different challenge from what was done here. Moreover, combining speech sentiment analysis with the text sentiment analysis could be a powerful combination. This could also very well be done with the Spotify Podcast Dataset, but was beyond the scope of this project. \n",
        "\n",
        "A third and final idea for future research is an extension on the research performed here, namely to see if the sentiment of one speaker throughout a dialogue influences the sentiment of the other speaker. Say one speaker is very positive about a certain subject and one starts off very negatively towards that subject, it would be very interesting to see how frequently it occurs that one of the speakers changes his or her sentiment throughout the dialogue."
      ]
    },
    {
      "cell_type": "markdown",
      "metadata": {
        "id": "2uhr1YE3AYJb"
      },
      "source": [
        "## References\n",
        "\n"
      ]
    }
  ]
}